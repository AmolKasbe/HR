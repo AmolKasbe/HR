{
 "cells": [
  {
   "cell_type": "code",
   "execution_count": 1,
   "id": "7a82b760",
   "metadata": {},
   "outputs": [
    {
     "name": "stderr",
     "output_type": "stream",
     "text": [
      "C:\\Users\\admin\\anaconda3\\lib\\site-packages\\pandas\\core\\arrays\\masked.py:61: UserWarning: Pandas requires version '1.3.6' or newer of 'bottleneck' (version '1.3.5' currently installed).\n",
      "  from pandas.core import (\n"
     ]
    }
   ],
   "source": [
    "import pandas as pd \n",
    "import numpy as np \n",
    "import matplotlib.pyplot as plt \n",
    "import seaborn as sns \n",
    "from sklearn.model_selection import train_test_split \n",
    "from sklearn.preprocessing import StandardScaler\n"
   ]
  },
  {
   "cell_type": "code",
   "execution_count": 2,
   "id": "cab471ba",
   "metadata": {},
   "outputs": [],
   "source": [
    "train = pd.read_csv(\"Train (4).csv\")"
   ]
  },
  {
   "cell_type": "code",
   "execution_count": 3,
   "id": "c118900a",
   "metadata": {},
   "outputs": [],
   "source": [
    "test = pd.read_csv(\"Test (1).csv\")"
   ]
  },
  {
   "cell_type": "code",
   "execution_count": 4,
   "id": "a2b76964",
   "metadata": {},
   "outputs": [
    {
     "data": {
      "text/html": [
       "<div>\n",
       "<style scoped>\n",
       "    .dataframe tbody tr th:only-of-type {\n",
       "        vertical-align: middle;\n",
       "    }\n",
       "\n",
       "    .dataframe tbody tr th {\n",
       "        vertical-align: top;\n",
       "    }\n",
       "\n",
       "    .dataframe thead th {\n",
       "        text-align: right;\n",
       "    }\n",
       "</style>\n",
       "<table border=\"1\" class=\"dataframe\">\n",
       "  <thead>\n",
       "    <tr style=\"text-align: right;\">\n",
       "      <th></th>\n",
       "      <th>country</th>\n",
       "      <th>year</th>\n",
       "      <th>uniqueid</th>\n",
       "      <th>bank_account</th>\n",
       "      <th>location_type</th>\n",
       "      <th>cellphone_access</th>\n",
       "      <th>household_size</th>\n",
       "      <th>age_of_respondent</th>\n",
       "      <th>gender_of_respondent</th>\n",
       "      <th>relationship_with_head</th>\n",
       "      <th>marital_status</th>\n",
       "      <th>education_level</th>\n",
       "      <th>job_type</th>\n",
       "    </tr>\n",
       "  </thead>\n",
       "  <tbody>\n",
       "    <tr>\n",
       "      <th>0</th>\n",
       "      <td>Kenya</td>\n",
       "      <td>2018</td>\n",
       "      <td>uniqueid_1</td>\n",
       "      <td>Yes</td>\n",
       "      <td>Rural</td>\n",
       "      <td>Yes</td>\n",
       "      <td>3</td>\n",
       "      <td>24</td>\n",
       "      <td>Female</td>\n",
       "      <td>Spouse</td>\n",
       "      <td>Married/Living together</td>\n",
       "      <td>Secondary education</td>\n",
       "      <td>Self employed</td>\n",
       "    </tr>\n",
       "    <tr>\n",
       "      <th>1</th>\n",
       "      <td>Kenya</td>\n",
       "      <td>2018</td>\n",
       "      <td>uniqueid_2</td>\n",
       "      <td>No</td>\n",
       "      <td>Rural</td>\n",
       "      <td>No</td>\n",
       "      <td>5</td>\n",
       "      <td>70</td>\n",
       "      <td>Female</td>\n",
       "      <td>Head of Household</td>\n",
       "      <td>Widowed</td>\n",
       "      <td>No formal education</td>\n",
       "      <td>Government Dependent</td>\n",
       "    </tr>\n",
       "    <tr>\n",
       "      <th>2</th>\n",
       "      <td>Kenya</td>\n",
       "      <td>2018</td>\n",
       "      <td>uniqueid_3</td>\n",
       "      <td>Yes</td>\n",
       "      <td>Urban</td>\n",
       "      <td>Yes</td>\n",
       "      <td>5</td>\n",
       "      <td>26</td>\n",
       "      <td>Male</td>\n",
       "      <td>Other relative</td>\n",
       "      <td>Single/Never Married</td>\n",
       "      <td>Vocational/Specialised training</td>\n",
       "      <td>Self employed</td>\n",
       "    </tr>\n",
       "    <tr>\n",
       "      <th>3</th>\n",
       "      <td>Kenya</td>\n",
       "      <td>2018</td>\n",
       "      <td>uniqueid_4</td>\n",
       "      <td>No</td>\n",
       "      <td>Rural</td>\n",
       "      <td>Yes</td>\n",
       "      <td>5</td>\n",
       "      <td>34</td>\n",
       "      <td>Female</td>\n",
       "      <td>Head of Household</td>\n",
       "      <td>Married/Living together</td>\n",
       "      <td>Primary education</td>\n",
       "      <td>Formally employed Private</td>\n",
       "    </tr>\n",
       "    <tr>\n",
       "      <th>4</th>\n",
       "      <td>Kenya</td>\n",
       "      <td>2018</td>\n",
       "      <td>uniqueid_5</td>\n",
       "      <td>No</td>\n",
       "      <td>Urban</td>\n",
       "      <td>No</td>\n",
       "      <td>8</td>\n",
       "      <td>26</td>\n",
       "      <td>Male</td>\n",
       "      <td>Child</td>\n",
       "      <td>Single/Never Married</td>\n",
       "      <td>Primary education</td>\n",
       "      <td>Informally employed</td>\n",
       "    </tr>\n",
       "  </tbody>\n",
       "</table>\n",
       "</div>"
      ],
      "text/plain": [
       "  country  year    uniqueid bank_account location_type cellphone_access  \\\n",
       "0   Kenya  2018  uniqueid_1          Yes         Rural              Yes   \n",
       "1   Kenya  2018  uniqueid_2           No         Rural               No   \n",
       "2   Kenya  2018  uniqueid_3          Yes         Urban              Yes   \n",
       "3   Kenya  2018  uniqueid_4           No         Rural              Yes   \n",
       "4   Kenya  2018  uniqueid_5           No         Urban               No   \n",
       "\n",
       "   household_size  age_of_respondent gender_of_respondent  \\\n",
       "0               3                 24               Female   \n",
       "1               5                 70               Female   \n",
       "2               5                 26                 Male   \n",
       "3               5                 34               Female   \n",
       "4               8                 26                 Male   \n",
       "\n",
       "  relationship_with_head           marital_status  \\\n",
       "0                 Spouse  Married/Living together   \n",
       "1      Head of Household                  Widowed   \n",
       "2         Other relative     Single/Never Married   \n",
       "3      Head of Household  Married/Living together   \n",
       "4                  Child     Single/Never Married   \n",
       "\n",
       "                   education_level                   job_type  \n",
       "0              Secondary education              Self employed  \n",
       "1              No formal education       Government Dependent  \n",
       "2  Vocational/Specialised training              Self employed  \n",
       "3                Primary education  Formally employed Private  \n",
       "4                Primary education        Informally employed  "
      ]
     },
     "execution_count": 4,
     "metadata": {},
     "output_type": "execute_result"
    }
   ],
   "source": [
    "train.head()"
   ]
  },
  {
   "cell_type": "code",
   "execution_count": 5,
   "id": "17221a54",
   "metadata": {},
   "outputs": [
    {
     "data": {
      "text/html": [
       "<div>\n",
       "<style scoped>\n",
       "    .dataframe tbody tr th:only-of-type {\n",
       "        vertical-align: middle;\n",
       "    }\n",
       "\n",
       "    .dataframe tbody tr th {\n",
       "        vertical-align: top;\n",
       "    }\n",
       "\n",
       "    .dataframe thead th {\n",
       "        text-align: right;\n",
       "    }\n",
       "</style>\n",
       "<table border=\"1\" class=\"dataframe\">\n",
       "  <thead>\n",
       "    <tr style=\"text-align: right;\">\n",
       "      <th></th>\n",
       "      <th>country</th>\n",
       "      <th>year</th>\n",
       "      <th>uniqueid</th>\n",
       "      <th>location_type</th>\n",
       "      <th>cellphone_access</th>\n",
       "      <th>household_size</th>\n",
       "      <th>age_of_respondent</th>\n",
       "      <th>gender_of_respondent</th>\n",
       "      <th>relationship_with_head</th>\n",
       "      <th>marital_status</th>\n",
       "      <th>education_level</th>\n",
       "      <th>job_type</th>\n",
       "    </tr>\n",
       "  </thead>\n",
       "  <tbody>\n",
       "    <tr>\n",
       "      <th>0</th>\n",
       "      <td>Kenya</td>\n",
       "      <td>2018</td>\n",
       "      <td>uniqueid_6056</td>\n",
       "      <td>Urban</td>\n",
       "      <td>Yes</td>\n",
       "      <td>3</td>\n",
       "      <td>30</td>\n",
       "      <td>Male</td>\n",
       "      <td>Head of Household</td>\n",
       "      <td>Married/Living together</td>\n",
       "      <td>Secondary education</td>\n",
       "      <td>Formally employed Government</td>\n",
       "    </tr>\n",
       "    <tr>\n",
       "      <th>1</th>\n",
       "      <td>Kenya</td>\n",
       "      <td>2018</td>\n",
       "      <td>uniqueid_6060</td>\n",
       "      <td>Urban</td>\n",
       "      <td>Yes</td>\n",
       "      <td>7</td>\n",
       "      <td>51</td>\n",
       "      <td>Male</td>\n",
       "      <td>Head of Household</td>\n",
       "      <td>Married/Living together</td>\n",
       "      <td>Vocational/Specialised training</td>\n",
       "      <td>Formally employed Private</td>\n",
       "    </tr>\n",
       "    <tr>\n",
       "      <th>2</th>\n",
       "      <td>Kenya</td>\n",
       "      <td>2018</td>\n",
       "      <td>uniqueid_6065</td>\n",
       "      <td>Rural</td>\n",
       "      <td>No</td>\n",
       "      <td>3</td>\n",
       "      <td>77</td>\n",
       "      <td>Female</td>\n",
       "      <td>Parent</td>\n",
       "      <td>Married/Living together</td>\n",
       "      <td>No formal education</td>\n",
       "      <td>Remittance Dependent</td>\n",
       "    </tr>\n",
       "    <tr>\n",
       "      <th>3</th>\n",
       "      <td>Kenya</td>\n",
       "      <td>2018</td>\n",
       "      <td>uniqueid_6072</td>\n",
       "      <td>Rural</td>\n",
       "      <td>No</td>\n",
       "      <td>6</td>\n",
       "      <td>39</td>\n",
       "      <td>Female</td>\n",
       "      <td>Head of Household</td>\n",
       "      <td>Married/Living together</td>\n",
       "      <td>Primary education</td>\n",
       "      <td>Remittance Dependent</td>\n",
       "    </tr>\n",
       "    <tr>\n",
       "      <th>4</th>\n",
       "      <td>Kenya</td>\n",
       "      <td>2018</td>\n",
       "      <td>uniqueid_6073</td>\n",
       "      <td>Urban</td>\n",
       "      <td>No</td>\n",
       "      <td>3</td>\n",
       "      <td>16</td>\n",
       "      <td>Male</td>\n",
       "      <td>Child</td>\n",
       "      <td>Single/Never Married</td>\n",
       "      <td>Secondary education</td>\n",
       "      <td>Remittance Dependent</td>\n",
       "    </tr>\n",
       "  </tbody>\n",
       "</table>\n",
       "</div>"
      ],
      "text/plain": [
       "  country  year       uniqueid location_type cellphone_access  household_size  \\\n",
       "0   Kenya  2018  uniqueid_6056         Urban              Yes               3   \n",
       "1   Kenya  2018  uniqueid_6060         Urban              Yes               7   \n",
       "2   Kenya  2018  uniqueid_6065         Rural               No               3   \n",
       "3   Kenya  2018  uniqueid_6072         Rural               No               6   \n",
       "4   Kenya  2018  uniqueid_6073         Urban               No               3   \n",
       "\n",
       "   age_of_respondent gender_of_respondent relationship_with_head  \\\n",
       "0                 30                 Male      Head of Household   \n",
       "1                 51                 Male      Head of Household   \n",
       "2                 77               Female                 Parent   \n",
       "3                 39               Female      Head of Household   \n",
       "4                 16                 Male                  Child   \n",
       "\n",
       "            marital_status                  education_level  \\\n",
       "0  Married/Living together              Secondary education   \n",
       "1  Married/Living together  Vocational/Specialised training   \n",
       "2  Married/Living together              No formal education   \n",
       "3  Married/Living together                Primary education   \n",
       "4     Single/Never Married              Secondary education   \n",
       "\n",
       "                       job_type  \n",
       "0  Formally employed Government  \n",
       "1     Formally employed Private  \n",
       "2          Remittance Dependent  \n",
       "3          Remittance Dependent  \n",
       "4          Remittance Dependent  "
      ]
     },
     "execution_count": 5,
     "metadata": {},
     "output_type": "execute_result"
    }
   ],
   "source": [
    "test.head()"
   ]
  },
  {
   "cell_type": "code",
   "execution_count": 6,
   "id": "6443a86c",
   "metadata": {},
   "outputs": [
    {
     "name": "stdout",
     "output_type": "stream",
     "text": [
      "<class 'pandas.core.frame.DataFrame'>\n",
      "RangeIndex: 23524 entries, 0 to 23523\n",
      "Data columns (total 13 columns):\n",
      " #   Column                  Non-Null Count  Dtype \n",
      "---  ------                  --------------  ----- \n",
      " 0   country                 23524 non-null  object\n",
      " 1   year                    23524 non-null  int64 \n",
      " 2   uniqueid                23524 non-null  object\n",
      " 3   bank_account            23524 non-null  object\n",
      " 4   location_type           23524 non-null  object\n",
      " 5   cellphone_access        23524 non-null  object\n",
      " 6   household_size          23524 non-null  int64 \n",
      " 7   age_of_respondent       23524 non-null  int64 \n",
      " 8   gender_of_respondent    23524 non-null  object\n",
      " 9   relationship_with_head  23524 non-null  object\n",
      " 10  marital_status          23524 non-null  object\n",
      " 11  education_level         23524 non-null  object\n",
      " 12  job_type                23524 non-null  object\n",
      "dtypes: int64(3), object(10)\n",
      "memory usage: 2.3+ MB\n"
     ]
    }
   ],
   "source": [
    "train.info()"
   ]
  },
  {
   "cell_type": "code",
   "execution_count": 7,
   "id": "358626bc",
   "metadata": {},
   "outputs": [
    {
     "name": "stdout",
     "output_type": "stream",
     "text": [
      "<class 'pandas.core.frame.DataFrame'>\n",
      "RangeIndex: 10086 entries, 0 to 10085\n",
      "Data columns (total 12 columns):\n",
      " #   Column                  Non-Null Count  Dtype \n",
      "---  ------                  --------------  ----- \n",
      " 0   country                 10086 non-null  object\n",
      " 1   year                    10086 non-null  int64 \n",
      " 2   uniqueid                10086 non-null  object\n",
      " 3   location_type           10086 non-null  object\n",
      " 4   cellphone_access        10086 non-null  object\n",
      " 5   household_size          10086 non-null  int64 \n",
      " 6   age_of_respondent       10086 non-null  int64 \n",
      " 7   gender_of_respondent    10086 non-null  object\n",
      " 8   relationship_with_head  10086 non-null  object\n",
      " 9   marital_status          10086 non-null  object\n",
      " 10  education_level         10086 non-null  object\n",
      " 11  job_type                10086 non-null  object\n",
      "dtypes: int64(3), object(9)\n",
      "memory usage: 945.7+ KB\n"
     ]
    }
   ],
   "source": [
    "test.info()"
   ]
  },
  {
   "cell_type": "code",
   "execution_count": 8,
   "id": "3f744b7c",
   "metadata": {},
   "outputs": [
    {
     "data": {
      "text/plain": [
       "country                   0\n",
       "year                      0\n",
       "uniqueid                  0\n",
       "bank_account              0\n",
       "location_type             0\n",
       "cellphone_access          0\n",
       "household_size            0\n",
       "age_of_respondent         0\n",
       "gender_of_respondent      0\n",
       "relationship_with_head    0\n",
       "marital_status            0\n",
       "education_level           0\n",
       "job_type                  0\n",
       "dtype: int64"
      ]
     },
     "execution_count": 8,
     "metadata": {},
     "output_type": "execute_result"
    }
   ],
   "source": [
    "train.isnull().sum()"
   ]
  },
  {
   "cell_type": "code",
   "execution_count": 9,
   "id": "f4d911c4",
   "metadata": {},
   "outputs": [
    {
     "data": {
      "text/plain": [
       "country                   0\n",
       "year                      0\n",
       "uniqueid                  0\n",
       "location_type             0\n",
       "cellphone_access          0\n",
       "household_size            0\n",
       "age_of_respondent         0\n",
       "gender_of_respondent      0\n",
       "relationship_with_head    0\n",
       "marital_status            0\n",
       "education_level           0\n",
       "job_type                  0\n",
       "dtype: int64"
      ]
     },
     "execution_count": 9,
     "metadata": {},
     "output_type": "execute_result"
    }
   ],
   "source": [
    "test.isnull().sum()"
   ]
  },
  {
   "cell_type": "code",
   "execution_count": 10,
   "id": "f5d99d69",
   "metadata": {},
   "outputs": [
    {
     "data": {
      "text/plain": [
       "0        False\n",
       "1        False\n",
       "2        False\n",
       "3        False\n",
       "4        False\n",
       "         ...  \n",
       "23519    False\n",
       "23520    False\n",
       "23521    False\n",
       "23522    False\n",
       "23523    False\n",
       "Length: 23524, dtype: bool"
      ]
     },
     "execution_count": 10,
     "metadata": {},
     "output_type": "execute_result"
    }
   ],
   "source": [
    "train.duplicated()"
   ]
  },
  {
   "cell_type": "code",
   "execution_count": 11,
   "id": "b38c8add",
   "metadata": {},
   "outputs": [
    {
     "data": {
      "text/plain": [
       "0        False\n",
       "1        False\n",
       "2        False\n",
       "3        False\n",
       "4        False\n",
       "         ...  \n",
       "10081    False\n",
       "10082    False\n",
       "10083    False\n",
       "10084    False\n",
       "10085    False\n",
       "Length: 10086, dtype: bool"
      ]
     },
     "execution_count": 11,
     "metadata": {},
     "output_type": "execute_result"
    }
   ],
   "source": [
    "test.duplicated()"
   ]
  },
  {
   "cell_type": "code",
   "execution_count": 12,
   "id": "253c2dac",
   "metadata": {},
   "outputs": [
    {
     "data": {
      "text/html": [
       "<div>\n",
       "<style scoped>\n",
       "    .dataframe tbody tr th:only-of-type {\n",
       "        vertical-align: middle;\n",
       "    }\n",
       "\n",
       "    .dataframe tbody tr th {\n",
       "        vertical-align: top;\n",
       "    }\n",
       "\n",
       "    .dataframe thead th {\n",
       "        text-align: right;\n",
       "    }\n",
       "</style>\n",
       "<table border=\"1\" class=\"dataframe\">\n",
       "  <thead>\n",
       "    <tr style=\"text-align: right;\">\n",
       "      <th></th>\n",
       "      <th>year</th>\n",
       "      <th>household_size</th>\n",
       "      <th>age_of_respondent</th>\n",
       "    </tr>\n",
       "  </thead>\n",
       "  <tbody>\n",
       "    <tr>\n",
       "      <th>count</th>\n",
       "      <td>23524.000000</td>\n",
       "      <td>23524.000000</td>\n",
       "      <td>23524.000000</td>\n",
       "    </tr>\n",
       "    <tr>\n",
       "      <th>mean</th>\n",
       "      <td>2016.975939</td>\n",
       "      <td>3.797483</td>\n",
       "      <td>38.805220</td>\n",
       "    </tr>\n",
       "    <tr>\n",
       "      <th>std</th>\n",
       "      <td>0.847371</td>\n",
       "      <td>2.227613</td>\n",
       "      <td>16.520569</td>\n",
       "    </tr>\n",
       "    <tr>\n",
       "      <th>min</th>\n",
       "      <td>2016.000000</td>\n",
       "      <td>1.000000</td>\n",
       "      <td>16.000000</td>\n",
       "    </tr>\n",
       "    <tr>\n",
       "      <th>25%</th>\n",
       "      <td>2016.000000</td>\n",
       "      <td>2.000000</td>\n",
       "      <td>26.000000</td>\n",
       "    </tr>\n",
       "    <tr>\n",
       "      <th>50%</th>\n",
       "      <td>2017.000000</td>\n",
       "      <td>3.000000</td>\n",
       "      <td>35.000000</td>\n",
       "    </tr>\n",
       "    <tr>\n",
       "      <th>75%</th>\n",
       "      <td>2018.000000</td>\n",
       "      <td>5.000000</td>\n",
       "      <td>49.000000</td>\n",
       "    </tr>\n",
       "    <tr>\n",
       "      <th>max</th>\n",
       "      <td>2018.000000</td>\n",
       "      <td>21.000000</td>\n",
       "      <td>100.000000</td>\n",
       "    </tr>\n",
       "  </tbody>\n",
       "</table>\n",
       "</div>"
      ],
      "text/plain": [
       "               year  household_size  age_of_respondent\n",
       "count  23524.000000    23524.000000       23524.000000\n",
       "mean    2016.975939        3.797483          38.805220\n",
       "std        0.847371        2.227613          16.520569\n",
       "min     2016.000000        1.000000          16.000000\n",
       "25%     2016.000000        2.000000          26.000000\n",
       "50%     2017.000000        3.000000          35.000000\n",
       "75%     2018.000000        5.000000          49.000000\n",
       "max     2018.000000       21.000000         100.000000"
      ]
     },
     "execution_count": 12,
     "metadata": {},
     "output_type": "execute_result"
    }
   ],
   "source": [
    "train.describe()"
   ]
  },
  {
   "cell_type": "code",
   "execution_count": 13,
   "id": "69fe2201",
   "metadata": {},
   "outputs": [
    {
     "data": {
      "text/html": [
       "<div>\n",
       "<style scoped>\n",
       "    .dataframe tbody tr th:only-of-type {\n",
       "        vertical-align: middle;\n",
       "    }\n",
       "\n",
       "    .dataframe tbody tr th {\n",
       "        vertical-align: top;\n",
       "    }\n",
       "\n",
       "    .dataframe thead th {\n",
       "        text-align: right;\n",
       "    }\n",
       "</style>\n",
       "<table border=\"1\" class=\"dataframe\">\n",
       "  <thead>\n",
       "    <tr style=\"text-align: right;\">\n",
       "      <th></th>\n",
       "      <th>year</th>\n",
       "      <th>household_size</th>\n",
       "      <th>age_of_respondent</th>\n",
       "    </tr>\n",
       "  </thead>\n",
       "  <tbody>\n",
       "    <tr>\n",
       "      <th>count</th>\n",
       "      <td>10086.000000</td>\n",
       "      <td>10086.000000</td>\n",
       "      <td>10086.000000</td>\n",
       "    </tr>\n",
       "    <tr>\n",
       "      <th>mean</th>\n",
       "      <td>2016.975907</td>\n",
       "      <td>3.778802</td>\n",
       "      <td>38.308348</td>\n",
       "    </tr>\n",
       "    <tr>\n",
       "      <th>std</th>\n",
       "      <td>0.847356</td>\n",
       "      <td>2.212721</td>\n",
       "      <td>16.270053</td>\n",
       "    </tr>\n",
       "    <tr>\n",
       "      <th>min</th>\n",
       "      <td>2016.000000</td>\n",
       "      <td>1.000000</td>\n",
       "      <td>16.000000</td>\n",
       "    </tr>\n",
       "    <tr>\n",
       "      <th>25%</th>\n",
       "      <td>2016.000000</td>\n",
       "      <td>2.000000</td>\n",
       "      <td>26.000000</td>\n",
       "    </tr>\n",
       "    <tr>\n",
       "      <th>50%</th>\n",
       "      <td>2017.000000</td>\n",
       "      <td>3.000000</td>\n",
       "      <td>35.000000</td>\n",
       "    </tr>\n",
       "    <tr>\n",
       "      <th>75%</th>\n",
       "      <td>2018.000000</td>\n",
       "      <td>5.000000</td>\n",
       "      <td>48.000000</td>\n",
       "    </tr>\n",
       "    <tr>\n",
       "      <th>max</th>\n",
       "      <td>2018.000000</td>\n",
       "      <td>20.000000</td>\n",
       "      <td>100.000000</td>\n",
       "    </tr>\n",
       "  </tbody>\n",
       "</table>\n",
       "</div>"
      ],
      "text/plain": [
       "               year  household_size  age_of_respondent\n",
       "count  10086.000000    10086.000000       10086.000000\n",
       "mean    2016.975907        3.778802          38.308348\n",
       "std        0.847356        2.212721          16.270053\n",
       "min     2016.000000        1.000000          16.000000\n",
       "25%     2016.000000        2.000000          26.000000\n",
       "50%     2017.000000        3.000000          35.000000\n",
       "75%     2018.000000        5.000000          48.000000\n",
       "max     2018.000000       20.000000         100.000000"
      ]
     },
     "execution_count": 13,
     "metadata": {},
     "output_type": "execute_result"
    }
   ],
   "source": [
    "test.describe()"
   ]
  },
  {
   "cell_type": "code",
   "execution_count": 14,
   "id": "845fe308",
   "metadata": {},
   "outputs": [
    {
     "data": {
      "text/plain": [
       "array(['uniqueid_1', 'uniqueid_2', 'uniqueid_3', ..., 'uniqueid_8757',\n",
       "       'uniqueid_8758', 'uniqueid_8759'], dtype=object)"
      ]
     },
     "execution_count": 14,
     "metadata": {},
     "output_type": "execute_result"
    }
   ],
   "source": [
    "train['uniqueid'].unique()"
   ]
  },
  {
   "cell_type": "code",
   "execution_count": 15,
   "id": "b9c1655f",
   "metadata": {},
   "outputs": [
    {
     "name": "stdout",
     "output_type": "stream",
     "text": [
      "      country  year       uniqueid bank_account location_type  \\\n",
      "0       Kenya  2018     uniqueid_1          Yes         Rural   \n",
      "1       Kenya  2018     uniqueid_2           No         Rural   \n",
      "2       Kenya  2018     uniqueid_3          Yes         Urban   \n",
      "3       Kenya  2018     uniqueid_4           No         Rural   \n",
      "4       Kenya  2018     uniqueid_5           No         Urban   \n",
      "...       ...   ...            ...          ...           ...   \n",
      "33605  Uganda  2018  uniqueid_2998          NaN         Rural   \n",
      "33606  Uganda  2018  uniqueid_2999          NaN         Urban   \n",
      "33607  Uganda  2018  uniqueid_3000          NaN         Urban   \n",
      "33608  Uganda  2018  uniqueid_3001          NaN         Rural   \n",
      "33609  Uganda  2018  uniqueid_3002          NaN         Urban   \n",
      "\n",
      "      cellphone_access  household_size  age_of_respondent  \\\n",
      "0                  Yes               3                 24   \n",
      "1                   No               5                 70   \n",
      "2                  Yes               5                 26   \n",
      "3                  Yes               5                 34   \n",
      "4                   No               8                 26   \n",
      "...                ...             ...                ...   \n",
      "33605               No               2                 62   \n",
      "33606              Yes               8                 42   \n",
      "33607              Yes               1                 39   \n",
      "33608              Yes               6                 28   \n",
      "33609              Yes               7                 16   \n",
      "\n",
      "      gender_of_respondent relationship_with_head           marital_status  \\\n",
      "0                   Female                 Spouse  Married/Living together   \n",
      "1                   Female      Head of Household                  Widowed   \n",
      "2                     Male         Other relative     Single/Never Married   \n",
      "3                   Female      Head of Household  Married/Living together   \n",
      "4                     Male                  Child     Single/Never Married   \n",
      "...                    ...                    ...                      ...   \n",
      "33605               Female                 Spouse  Married/Living together   \n",
      "33606                 Male      Head of Household  Married/Living together   \n",
      "33607                 Male      Head of Household     Single/Never Married   \n",
      "33608               Female                 Spouse  Married/Living together   \n",
      "33609                 Male         Other relative     Single/Never Married   \n",
      "\n",
      "                       education_level                   job_type  \n",
      "0                  Secondary education              Self employed  \n",
      "1                  No formal education       Government Dependent  \n",
      "2      Vocational/Specialised training              Self employed  \n",
      "3                    Primary education  Formally employed Private  \n",
      "4                    Primary education        Informally employed  \n",
      "...                                ...                        ...  \n",
      "33605                Primary education              Self employed  \n",
      "33606                Primary education              Self employed  \n",
      "33607              Secondary education               Other Income  \n",
      "33608                Primary education              Self employed  \n",
      "33609              Secondary education               Other Income  \n",
      "\n",
      "[33610 rows x 13 columns]\n"
     ]
    }
   ],
   "source": [
    "\n",
    "# Add rows\n",
    "combined = pd.concat([train,test], ignore_index=True)\n",
    "\n",
    "print(combined)\n"
   ]
  },
  {
   "cell_type": "code",
   "execution_count": 16,
   "id": "7f20fda2",
   "metadata": {},
   "outputs": [],
   "source": [
    "df=combined"
   ]
  },
  {
   "cell_type": "code",
   "execution_count": 17,
   "id": "d508fd43",
   "metadata": {},
   "outputs": [
    {
     "data": {
      "text/html": [
       "<div>\n",
       "<style scoped>\n",
       "    .dataframe tbody tr th:only-of-type {\n",
       "        vertical-align: middle;\n",
       "    }\n",
       "\n",
       "    .dataframe tbody tr th {\n",
       "        vertical-align: top;\n",
       "    }\n",
       "\n",
       "    .dataframe thead th {\n",
       "        text-align: right;\n",
       "    }\n",
       "</style>\n",
       "<table border=\"1\" class=\"dataframe\">\n",
       "  <thead>\n",
       "    <tr style=\"text-align: right;\">\n",
       "      <th></th>\n",
       "      <th>country</th>\n",
       "      <th>year</th>\n",
       "      <th>uniqueid</th>\n",
       "      <th>bank_account</th>\n",
       "      <th>location_type</th>\n",
       "      <th>cellphone_access</th>\n",
       "      <th>household_size</th>\n",
       "      <th>age_of_respondent</th>\n",
       "      <th>gender_of_respondent</th>\n",
       "      <th>relationship_with_head</th>\n",
       "      <th>marital_status</th>\n",
       "      <th>education_level</th>\n",
       "      <th>job_type</th>\n",
       "    </tr>\n",
       "  </thead>\n",
       "  <tbody>\n",
       "    <tr>\n",
       "      <th>0</th>\n",
       "      <td>Kenya</td>\n",
       "      <td>2018</td>\n",
       "      <td>uniqueid_1</td>\n",
       "      <td>Yes</td>\n",
       "      <td>Rural</td>\n",
       "      <td>Yes</td>\n",
       "      <td>3</td>\n",
       "      <td>24</td>\n",
       "      <td>Female</td>\n",
       "      <td>Spouse</td>\n",
       "      <td>Married/Living together</td>\n",
       "      <td>Secondary education</td>\n",
       "      <td>Self employed</td>\n",
       "    </tr>\n",
       "    <tr>\n",
       "      <th>1</th>\n",
       "      <td>Kenya</td>\n",
       "      <td>2018</td>\n",
       "      <td>uniqueid_2</td>\n",
       "      <td>No</td>\n",
       "      <td>Rural</td>\n",
       "      <td>No</td>\n",
       "      <td>5</td>\n",
       "      <td>70</td>\n",
       "      <td>Female</td>\n",
       "      <td>Head of Household</td>\n",
       "      <td>Widowed</td>\n",
       "      <td>No formal education</td>\n",
       "      <td>Government Dependent</td>\n",
       "    </tr>\n",
       "    <tr>\n",
       "      <th>2</th>\n",
       "      <td>Kenya</td>\n",
       "      <td>2018</td>\n",
       "      <td>uniqueid_3</td>\n",
       "      <td>Yes</td>\n",
       "      <td>Urban</td>\n",
       "      <td>Yes</td>\n",
       "      <td>5</td>\n",
       "      <td>26</td>\n",
       "      <td>Male</td>\n",
       "      <td>Other relative</td>\n",
       "      <td>Single/Never Married</td>\n",
       "      <td>Vocational/Specialised training</td>\n",
       "      <td>Self employed</td>\n",
       "    </tr>\n",
       "    <tr>\n",
       "      <th>3</th>\n",
       "      <td>Kenya</td>\n",
       "      <td>2018</td>\n",
       "      <td>uniqueid_4</td>\n",
       "      <td>No</td>\n",
       "      <td>Rural</td>\n",
       "      <td>Yes</td>\n",
       "      <td>5</td>\n",
       "      <td>34</td>\n",
       "      <td>Female</td>\n",
       "      <td>Head of Household</td>\n",
       "      <td>Married/Living together</td>\n",
       "      <td>Primary education</td>\n",
       "      <td>Formally employed Private</td>\n",
       "    </tr>\n",
       "    <tr>\n",
       "      <th>4</th>\n",
       "      <td>Kenya</td>\n",
       "      <td>2018</td>\n",
       "      <td>uniqueid_5</td>\n",
       "      <td>No</td>\n",
       "      <td>Urban</td>\n",
       "      <td>No</td>\n",
       "      <td>8</td>\n",
       "      <td>26</td>\n",
       "      <td>Male</td>\n",
       "      <td>Child</td>\n",
       "      <td>Single/Never Married</td>\n",
       "      <td>Primary education</td>\n",
       "      <td>Informally employed</td>\n",
       "    </tr>\n",
       "  </tbody>\n",
       "</table>\n",
       "</div>"
      ],
      "text/plain": [
       "  country  year    uniqueid bank_account location_type cellphone_access  \\\n",
       "0   Kenya  2018  uniqueid_1          Yes         Rural              Yes   \n",
       "1   Kenya  2018  uniqueid_2           No         Rural               No   \n",
       "2   Kenya  2018  uniqueid_3          Yes         Urban              Yes   \n",
       "3   Kenya  2018  uniqueid_4           No         Rural              Yes   \n",
       "4   Kenya  2018  uniqueid_5           No         Urban               No   \n",
       "\n",
       "   household_size  age_of_respondent gender_of_respondent  \\\n",
       "0               3                 24               Female   \n",
       "1               5                 70               Female   \n",
       "2               5                 26                 Male   \n",
       "3               5                 34               Female   \n",
       "4               8                 26                 Male   \n",
       "\n",
       "  relationship_with_head           marital_status  \\\n",
       "0                 Spouse  Married/Living together   \n",
       "1      Head of Household                  Widowed   \n",
       "2         Other relative     Single/Never Married   \n",
       "3      Head of Household  Married/Living together   \n",
       "4                  Child     Single/Never Married   \n",
       "\n",
       "                   education_level                   job_type  \n",
       "0              Secondary education              Self employed  \n",
       "1              No formal education       Government Dependent  \n",
       "2  Vocational/Specialised training              Self employed  \n",
       "3                Primary education  Formally employed Private  \n",
       "4                Primary education        Informally employed  "
      ]
     },
     "execution_count": 17,
     "metadata": {},
     "output_type": "execute_result"
    }
   ],
   "source": [
    "df.head()"
   ]
  },
  {
   "cell_type": "code",
   "execution_count": 18,
   "id": "0d718e53",
   "metadata": {},
   "outputs": [
    {
     "name": "stdout",
     "output_type": "stream",
     "text": [
      "<class 'pandas.core.frame.DataFrame'>\n",
      "RangeIndex: 33610 entries, 0 to 33609\n",
      "Data columns (total 13 columns):\n",
      " #   Column                  Non-Null Count  Dtype \n",
      "---  ------                  --------------  ----- \n",
      " 0   country                 33610 non-null  object\n",
      " 1   year                    33610 non-null  int64 \n",
      " 2   uniqueid                33610 non-null  object\n",
      " 3   bank_account            23524 non-null  object\n",
      " 4   location_type           33610 non-null  object\n",
      " 5   cellphone_access        33610 non-null  object\n",
      " 6   household_size          33610 non-null  int64 \n",
      " 7   age_of_respondent       33610 non-null  int64 \n",
      " 8   gender_of_respondent    33610 non-null  object\n",
      " 9   relationship_with_head  33610 non-null  object\n",
      " 10  marital_status          33610 non-null  object\n",
      " 11  education_level         33610 non-null  object\n",
      " 12  job_type                33610 non-null  object\n",
      "dtypes: int64(3), object(10)\n",
      "memory usage: 3.3+ MB\n"
     ]
    }
   ],
   "source": [
    "df.info()"
   ]
  },
  {
   "cell_type": "code",
   "execution_count": 19,
   "id": "4f72f0fb",
   "metadata": {},
   "outputs": [],
   "source": [
    "df.drop(columns=['uniqueid'], inplace=True)\n",
    "\n"
   ]
  },
  {
   "cell_type": "code",
   "execution_count": 20,
   "id": "d8ab217e",
   "metadata": {},
   "outputs": [
    {
     "data": {
      "text/html": [
       "<div>\n",
       "<style scoped>\n",
       "    .dataframe tbody tr th:only-of-type {\n",
       "        vertical-align: middle;\n",
       "    }\n",
       "\n",
       "    .dataframe tbody tr th {\n",
       "        vertical-align: top;\n",
       "    }\n",
       "\n",
       "    .dataframe thead th {\n",
       "        text-align: right;\n",
       "    }\n",
       "</style>\n",
       "<table border=\"1\" class=\"dataframe\">\n",
       "  <thead>\n",
       "    <tr style=\"text-align: right;\">\n",
       "      <th></th>\n",
       "      <th>country</th>\n",
       "      <th>year</th>\n",
       "      <th>bank_account</th>\n",
       "      <th>location_type</th>\n",
       "      <th>cellphone_access</th>\n",
       "      <th>household_size</th>\n",
       "      <th>age_of_respondent</th>\n",
       "      <th>gender_of_respondent</th>\n",
       "      <th>relationship_with_head</th>\n",
       "      <th>marital_status</th>\n",
       "      <th>education_level</th>\n",
       "      <th>job_type</th>\n",
       "    </tr>\n",
       "  </thead>\n",
       "  <tbody>\n",
       "    <tr>\n",
       "      <th>0</th>\n",
       "      <td>Kenya</td>\n",
       "      <td>2018</td>\n",
       "      <td>Yes</td>\n",
       "      <td>Rural</td>\n",
       "      <td>Yes</td>\n",
       "      <td>3</td>\n",
       "      <td>24</td>\n",
       "      <td>Female</td>\n",
       "      <td>Spouse</td>\n",
       "      <td>Married/Living together</td>\n",
       "      <td>Secondary education</td>\n",
       "      <td>Self employed</td>\n",
       "    </tr>\n",
       "    <tr>\n",
       "      <th>1</th>\n",
       "      <td>Kenya</td>\n",
       "      <td>2018</td>\n",
       "      <td>No</td>\n",
       "      <td>Rural</td>\n",
       "      <td>No</td>\n",
       "      <td>5</td>\n",
       "      <td>70</td>\n",
       "      <td>Female</td>\n",
       "      <td>Head of Household</td>\n",
       "      <td>Widowed</td>\n",
       "      <td>No formal education</td>\n",
       "      <td>Government Dependent</td>\n",
       "    </tr>\n",
       "    <tr>\n",
       "      <th>2</th>\n",
       "      <td>Kenya</td>\n",
       "      <td>2018</td>\n",
       "      <td>Yes</td>\n",
       "      <td>Urban</td>\n",
       "      <td>Yes</td>\n",
       "      <td>5</td>\n",
       "      <td>26</td>\n",
       "      <td>Male</td>\n",
       "      <td>Other relative</td>\n",
       "      <td>Single/Never Married</td>\n",
       "      <td>Vocational/Specialised training</td>\n",
       "      <td>Self employed</td>\n",
       "    </tr>\n",
       "    <tr>\n",
       "      <th>3</th>\n",
       "      <td>Kenya</td>\n",
       "      <td>2018</td>\n",
       "      <td>No</td>\n",
       "      <td>Rural</td>\n",
       "      <td>Yes</td>\n",
       "      <td>5</td>\n",
       "      <td>34</td>\n",
       "      <td>Female</td>\n",
       "      <td>Head of Household</td>\n",
       "      <td>Married/Living together</td>\n",
       "      <td>Primary education</td>\n",
       "      <td>Formally employed Private</td>\n",
       "    </tr>\n",
       "    <tr>\n",
       "      <th>4</th>\n",
       "      <td>Kenya</td>\n",
       "      <td>2018</td>\n",
       "      <td>No</td>\n",
       "      <td>Urban</td>\n",
       "      <td>No</td>\n",
       "      <td>8</td>\n",
       "      <td>26</td>\n",
       "      <td>Male</td>\n",
       "      <td>Child</td>\n",
       "      <td>Single/Never Married</td>\n",
       "      <td>Primary education</td>\n",
       "      <td>Informally employed</td>\n",
       "    </tr>\n",
       "    <tr>\n",
       "      <th>...</th>\n",
       "      <td>...</td>\n",
       "      <td>...</td>\n",
       "      <td>...</td>\n",
       "      <td>...</td>\n",
       "      <td>...</td>\n",
       "      <td>...</td>\n",
       "      <td>...</td>\n",
       "      <td>...</td>\n",
       "      <td>...</td>\n",
       "      <td>...</td>\n",
       "      <td>...</td>\n",
       "      <td>...</td>\n",
       "    </tr>\n",
       "    <tr>\n",
       "      <th>33605</th>\n",
       "      <td>Uganda</td>\n",
       "      <td>2018</td>\n",
       "      <td>NaN</td>\n",
       "      <td>Rural</td>\n",
       "      <td>No</td>\n",
       "      <td>2</td>\n",
       "      <td>62</td>\n",
       "      <td>Female</td>\n",
       "      <td>Spouse</td>\n",
       "      <td>Married/Living together</td>\n",
       "      <td>Primary education</td>\n",
       "      <td>Self employed</td>\n",
       "    </tr>\n",
       "    <tr>\n",
       "      <th>33606</th>\n",
       "      <td>Uganda</td>\n",
       "      <td>2018</td>\n",
       "      <td>NaN</td>\n",
       "      <td>Urban</td>\n",
       "      <td>Yes</td>\n",
       "      <td>8</td>\n",
       "      <td>42</td>\n",
       "      <td>Male</td>\n",
       "      <td>Head of Household</td>\n",
       "      <td>Married/Living together</td>\n",
       "      <td>Primary education</td>\n",
       "      <td>Self employed</td>\n",
       "    </tr>\n",
       "    <tr>\n",
       "      <th>33607</th>\n",
       "      <td>Uganda</td>\n",
       "      <td>2018</td>\n",
       "      <td>NaN</td>\n",
       "      <td>Urban</td>\n",
       "      <td>Yes</td>\n",
       "      <td>1</td>\n",
       "      <td>39</td>\n",
       "      <td>Male</td>\n",
       "      <td>Head of Household</td>\n",
       "      <td>Single/Never Married</td>\n",
       "      <td>Secondary education</td>\n",
       "      <td>Other Income</td>\n",
       "    </tr>\n",
       "    <tr>\n",
       "      <th>33608</th>\n",
       "      <td>Uganda</td>\n",
       "      <td>2018</td>\n",
       "      <td>NaN</td>\n",
       "      <td>Rural</td>\n",
       "      <td>Yes</td>\n",
       "      <td>6</td>\n",
       "      <td>28</td>\n",
       "      <td>Female</td>\n",
       "      <td>Spouse</td>\n",
       "      <td>Married/Living together</td>\n",
       "      <td>Primary education</td>\n",
       "      <td>Self employed</td>\n",
       "    </tr>\n",
       "    <tr>\n",
       "      <th>33609</th>\n",
       "      <td>Uganda</td>\n",
       "      <td>2018</td>\n",
       "      <td>NaN</td>\n",
       "      <td>Urban</td>\n",
       "      <td>Yes</td>\n",
       "      <td>7</td>\n",
       "      <td>16</td>\n",
       "      <td>Male</td>\n",
       "      <td>Other relative</td>\n",
       "      <td>Single/Never Married</td>\n",
       "      <td>Secondary education</td>\n",
       "      <td>Other Income</td>\n",
       "    </tr>\n",
       "  </tbody>\n",
       "</table>\n",
       "<p>33610 rows × 12 columns</p>\n",
       "</div>"
      ],
      "text/plain": [
       "      country  year bank_account location_type cellphone_access  \\\n",
       "0       Kenya  2018          Yes         Rural              Yes   \n",
       "1       Kenya  2018           No         Rural               No   \n",
       "2       Kenya  2018          Yes         Urban              Yes   \n",
       "3       Kenya  2018           No         Rural              Yes   \n",
       "4       Kenya  2018           No         Urban               No   \n",
       "...       ...   ...          ...           ...              ...   \n",
       "33605  Uganda  2018          NaN         Rural               No   \n",
       "33606  Uganda  2018          NaN         Urban              Yes   \n",
       "33607  Uganda  2018          NaN         Urban              Yes   \n",
       "33608  Uganda  2018          NaN         Rural              Yes   \n",
       "33609  Uganda  2018          NaN         Urban              Yes   \n",
       "\n",
       "       household_size  age_of_respondent gender_of_respondent  \\\n",
       "0                   3                 24               Female   \n",
       "1                   5                 70               Female   \n",
       "2                   5                 26                 Male   \n",
       "3                   5                 34               Female   \n",
       "4                   8                 26                 Male   \n",
       "...               ...                ...                  ...   \n",
       "33605               2                 62               Female   \n",
       "33606               8                 42                 Male   \n",
       "33607               1                 39                 Male   \n",
       "33608               6                 28               Female   \n",
       "33609               7                 16                 Male   \n",
       "\n",
       "      relationship_with_head           marital_status  \\\n",
       "0                     Spouse  Married/Living together   \n",
       "1          Head of Household                  Widowed   \n",
       "2             Other relative     Single/Never Married   \n",
       "3          Head of Household  Married/Living together   \n",
       "4                      Child     Single/Never Married   \n",
       "...                      ...                      ...   \n",
       "33605                 Spouse  Married/Living together   \n",
       "33606      Head of Household  Married/Living together   \n",
       "33607      Head of Household     Single/Never Married   \n",
       "33608                 Spouse  Married/Living together   \n",
       "33609         Other relative     Single/Never Married   \n",
       "\n",
       "                       education_level                   job_type  \n",
       "0                  Secondary education              Self employed  \n",
       "1                  No formal education       Government Dependent  \n",
       "2      Vocational/Specialised training              Self employed  \n",
       "3                    Primary education  Formally employed Private  \n",
       "4                    Primary education        Informally employed  \n",
       "...                                ...                        ...  \n",
       "33605                Primary education              Self employed  \n",
       "33606                Primary education              Self employed  \n",
       "33607              Secondary education               Other Income  \n",
       "33608                Primary education              Self employed  \n",
       "33609              Secondary education               Other Income  \n",
       "\n",
       "[33610 rows x 12 columns]"
      ]
     },
     "execution_count": 20,
     "metadata": {},
     "output_type": "execute_result"
    }
   ],
   "source": [
    "df"
   ]
  },
  {
   "cell_type": "code",
   "execution_count": 21,
   "id": "16394455",
   "metadata": {},
   "outputs": [],
   "source": [
    "# Clean up marital_status values\n",
    "df[\"marital_status\"] = df[\"marital_status\"].str.strip().str.lower()\n",
    "\n",
    "# Replace with standardized categories\n",
    "df[\"marital_status\"] = df[\"marital_status\"].replace({\n",
    "    \"married/living together\": \"married\",\n",
    "    \"widowed\": \"widowed\",\n",
    "    \"single/never married\": \"single\",\n",
    "    \"divorced/seperated\": \"divorced\",   # fixing the spelling\n",
    "    \"dont know\": \"unknown\"\n",
    "})\n"
   ]
  },
  {
   "cell_type": "code",
   "execution_count": 22,
   "id": "f172cfa2",
   "metadata": {},
   "outputs": [
    {
     "data": {
      "text/plain": [
       "array(['married', 'widowed', 'single', 'divorced', 'unknown'],\n",
       "      dtype=object)"
      ]
     },
     "execution_count": 22,
     "metadata": {},
     "output_type": "execute_result"
    }
   ],
   "source": [
    "df[\"marital_status\"].unique()\n"
   ]
  },
  {
   "cell_type": "code",
   "execution_count": 23,
   "id": "392454bb",
   "metadata": {},
   "outputs": [
    {
     "data": {
      "text/html": [
       "<div>\n",
       "<style scoped>\n",
       "    .dataframe tbody tr th:only-of-type {\n",
       "        vertical-align: middle;\n",
       "    }\n",
       "\n",
       "    .dataframe tbody tr th {\n",
       "        vertical-align: top;\n",
       "    }\n",
       "\n",
       "    .dataframe thead th {\n",
       "        text-align: right;\n",
       "    }\n",
       "</style>\n",
       "<table border=\"1\" class=\"dataframe\">\n",
       "  <thead>\n",
       "    <tr style=\"text-align: right;\">\n",
       "      <th></th>\n",
       "      <th>country</th>\n",
       "      <th>year</th>\n",
       "      <th>bank_account</th>\n",
       "      <th>location_type</th>\n",
       "      <th>cellphone_access</th>\n",
       "      <th>household_size</th>\n",
       "      <th>age_of_respondent</th>\n",
       "      <th>gender_of_respondent</th>\n",
       "      <th>relationship_with_head</th>\n",
       "      <th>marital_status</th>\n",
       "      <th>education_level</th>\n",
       "      <th>job_type</th>\n",
       "    </tr>\n",
       "  </thead>\n",
       "  <tbody>\n",
       "    <tr>\n",
       "      <th>0</th>\n",
       "      <td>Kenya</td>\n",
       "      <td>2018</td>\n",
       "      <td>Yes</td>\n",
       "      <td>Rural</td>\n",
       "      <td>Yes</td>\n",
       "      <td>3</td>\n",
       "      <td>24</td>\n",
       "      <td>Female</td>\n",
       "      <td>Spouse</td>\n",
       "      <td>married</td>\n",
       "      <td>Secondary education</td>\n",
       "      <td>Self employed</td>\n",
       "    </tr>\n",
       "    <tr>\n",
       "      <th>1</th>\n",
       "      <td>Kenya</td>\n",
       "      <td>2018</td>\n",
       "      <td>No</td>\n",
       "      <td>Rural</td>\n",
       "      <td>No</td>\n",
       "      <td>5</td>\n",
       "      <td>70</td>\n",
       "      <td>Female</td>\n",
       "      <td>Head of Household</td>\n",
       "      <td>widowed</td>\n",
       "      <td>No formal education</td>\n",
       "      <td>Government Dependent</td>\n",
       "    </tr>\n",
       "    <tr>\n",
       "      <th>2</th>\n",
       "      <td>Kenya</td>\n",
       "      <td>2018</td>\n",
       "      <td>Yes</td>\n",
       "      <td>Urban</td>\n",
       "      <td>Yes</td>\n",
       "      <td>5</td>\n",
       "      <td>26</td>\n",
       "      <td>Male</td>\n",
       "      <td>Other relative</td>\n",
       "      <td>single</td>\n",
       "      <td>Vocational/Specialised training</td>\n",
       "      <td>Self employed</td>\n",
       "    </tr>\n",
       "    <tr>\n",
       "      <th>3</th>\n",
       "      <td>Kenya</td>\n",
       "      <td>2018</td>\n",
       "      <td>No</td>\n",
       "      <td>Rural</td>\n",
       "      <td>Yes</td>\n",
       "      <td>5</td>\n",
       "      <td>34</td>\n",
       "      <td>Female</td>\n",
       "      <td>Head of Household</td>\n",
       "      <td>married</td>\n",
       "      <td>Primary education</td>\n",
       "      <td>Formally employed Private</td>\n",
       "    </tr>\n",
       "    <tr>\n",
       "      <th>4</th>\n",
       "      <td>Kenya</td>\n",
       "      <td>2018</td>\n",
       "      <td>No</td>\n",
       "      <td>Urban</td>\n",
       "      <td>No</td>\n",
       "      <td>8</td>\n",
       "      <td>26</td>\n",
       "      <td>Male</td>\n",
       "      <td>Child</td>\n",
       "      <td>single</td>\n",
       "      <td>Primary education</td>\n",
       "      <td>Informally employed</td>\n",
       "    </tr>\n",
       "    <tr>\n",
       "      <th>...</th>\n",
       "      <td>...</td>\n",
       "      <td>...</td>\n",
       "      <td>...</td>\n",
       "      <td>...</td>\n",
       "      <td>...</td>\n",
       "      <td>...</td>\n",
       "      <td>...</td>\n",
       "      <td>...</td>\n",
       "      <td>...</td>\n",
       "      <td>...</td>\n",
       "      <td>...</td>\n",
       "      <td>...</td>\n",
       "    </tr>\n",
       "    <tr>\n",
       "      <th>33605</th>\n",
       "      <td>Uganda</td>\n",
       "      <td>2018</td>\n",
       "      <td>NaN</td>\n",
       "      <td>Rural</td>\n",
       "      <td>No</td>\n",
       "      <td>2</td>\n",
       "      <td>62</td>\n",
       "      <td>Female</td>\n",
       "      <td>Spouse</td>\n",
       "      <td>married</td>\n",
       "      <td>Primary education</td>\n",
       "      <td>Self employed</td>\n",
       "    </tr>\n",
       "    <tr>\n",
       "      <th>33606</th>\n",
       "      <td>Uganda</td>\n",
       "      <td>2018</td>\n",
       "      <td>NaN</td>\n",
       "      <td>Urban</td>\n",
       "      <td>Yes</td>\n",
       "      <td>8</td>\n",
       "      <td>42</td>\n",
       "      <td>Male</td>\n",
       "      <td>Head of Household</td>\n",
       "      <td>married</td>\n",
       "      <td>Primary education</td>\n",
       "      <td>Self employed</td>\n",
       "    </tr>\n",
       "    <tr>\n",
       "      <th>33607</th>\n",
       "      <td>Uganda</td>\n",
       "      <td>2018</td>\n",
       "      <td>NaN</td>\n",
       "      <td>Urban</td>\n",
       "      <td>Yes</td>\n",
       "      <td>1</td>\n",
       "      <td>39</td>\n",
       "      <td>Male</td>\n",
       "      <td>Head of Household</td>\n",
       "      <td>single</td>\n",
       "      <td>Secondary education</td>\n",
       "      <td>Other Income</td>\n",
       "    </tr>\n",
       "    <tr>\n",
       "      <th>33608</th>\n",
       "      <td>Uganda</td>\n",
       "      <td>2018</td>\n",
       "      <td>NaN</td>\n",
       "      <td>Rural</td>\n",
       "      <td>Yes</td>\n",
       "      <td>6</td>\n",
       "      <td>28</td>\n",
       "      <td>Female</td>\n",
       "      <td>Spouse</td>\n",
       "      <td>married</td>\n",
       "      <td>Primary education</td>\n",
       "      <td>Self employed</td>\n",
       "    </tr>\n",
       "    <tr>\n",
       "      <th>33609</th>\n",
       "      <td>Uganda</td>\n",
       "      <td>2018</td>\n",
       "      <td>NaN</td>\n",
       "      <td>Urban</td>\n",
       "      <td>Yes</td>\n",
       "      <td>7</td>\n",
       "      <td>16</td>\n",
       "      <td>Male</td>\n",
       "      <td>Other relative</td>\n",
       "      <td>single</td>\n",
       "      <td>Secondary education</td>\n",
       "      <td>Other Income</td>\n",
       "    </tr>\n",
       "  </tbody>\n",
       "</table>\n",
       "<p>33610 rows × 12 columns</p>\n",
       "</div>"
      ],
      "text/plain": [
       "      country  year bank_account location_type cellphone_access  \\\n",
       "0       Kenya  2018          Yes         Rural              Yes   \n",
       "1       Kenya  2018           No         Rural               No   \n",
       "2       Kenya  2018          Yes         Urban              Yes   \n",
       "3       Kenya  2018           No         Rural              Yes   \n",
       "4       Kenya  2018           No         Urban               No   \n",
       "...       ...   ...          ...           ...              ...   \n",
       "33605  Uganda  2018          NaN         Rural               No   \n",
       "33606  Uganda  2018          NaN         Urban              Yes   \n",
       "33607  Uganda  2018          NaN         Urban              Yes   \n",
       "33608  Uganda  2018          NaN         Rural              Yes   \n",
       "33609  Uganda  2018          NaN         Urban              Yes   \n",
       "\n",
       "       household_size  age_of_respondent gender_of_respondent  \\\n",
       "0                   3                 24               Female   \n",
       "1                   5                 70               Female   \n",
       "2                   5                 26                 Male   \n",
       "3                   5                 34               Female   \n",
       "4                   8                 26                 Male   \n",
       "...               ...                ...                  ...   \n",
       "33605               2                 62               Female   \n",
       "33606               8                 42                 Male   \n",
       "33607               1                 39                 Male   \n",
       "33608               6                 28               Female   \n",
       "33609               7                 16                 Male   \n",
       "\n",
       "      relationship_with_head marital_status                  education_level  \\\n",
       "0                     Spouse        married              Secondary education   \n",
       "1          Head of Household        widowed              No formal education   \n",
       "2             Other relative         single  Vocational/Specialised training   \n",
       "3          Head of Household        married                Primary education   \n",
       "4                      Child         single                Primary education   \n",
       "...                      ...            ...                              ...   \n",
       "33605                 Spouse        married                Primary education   \n",
       "33606      Head of Household        married                Primary education   \n",
       "33607      Head of Household         single              Secondary education   \n",
       "33608                 Spouse        married                Primary education   \n",
       "33609         Other relative         single              Secondary education   \n",
       "\n",
       "                        job_type  \n",
       "0                  Self employed  \n",
       "1           Government Dependent  \n",
       "2                  Self employed  \n",
       "3      Formally employed Private  \n",
       "4            Informally employed  \n",
       "...                          ...  \n",
       "33605              Self employed  \n",
       "33606              Self employed  \n",
       "33607               Other Income  \n",
       "33608              Self employed  \n",
       "33609               Other Income  \n",
       "\n",
       "[33610 rows x 12 columns]"
      ]
     },
     "execution_count": 23,
     "metadata": {},
     "output_type": "execute_result"
    }
   ],
   "source": [
    "df"
   ]
  },
  {
   "cell_type": "code",
   "execution_count": 24,
   "id": "27b09b15",
   "metadata": {},
   "outputs": [
    {
     "data": {
      "text/plain": [
       "array(['Yes', 'No', nan], dtype=object)"
      ]
     },
     "execution_count": 24,
     "metadata": {},
     "output_type": "execute_result"
    }
   ],
   "source": [
    "df['bank_account'].unique()"
   ]
  },
  {
   "cell_type": "code",
   "execution_count": 25,
   "id": "d1427ccb",
   "metadata": {},
   "outputs": [],
   "source": [
    "df = df.dropna(subset=[\"bank_account\"])\n"
   ]
  },
  {
   "cell_type": "code",
   "execution_count": 26,
   "id": "a6020db0",
   "metadata": {},
   "outputs": [
    {
     "name": "stderr",
     "output_type": "stream",
     "text": [
      "C:\\Users\\admin\\AppData\\Local\\Temp\\ipykernel_11708\\2372080283.py:1: SettingWithCopyWarning: \n",
      "A value is trying to be set on a copy of a slice from a DataFrame.\n",
      "Try using .loc[row_indexer,col_indexer] = value instead\n",
      "\n",
      "See the caveats in the documentation: https://pandas.pydata.org/pandas-docs/stable/user_guide/indexing.html#returning-a-view-versus-a-copy\n",
      "  df[\"bank_account\"] = df[\"bank_account\"].map({\"Yes\": 1, \"No\": 0})\n"
     ]
    }
   ],
   "source": [
    "df[\"bank_account\"] = df[\"bank_account\"].map({\"Yes\": 1, \"No\": 0})\n"
   ]
  },
  {
   "cell_type": "code",
   "execution_count": 27,
   "id": "4f177fc3",
   "metadata": {},
   "outputs": [
    {
     "name": "stdout",
     "output_type": "stream",
     "text": [
      "country                   0\n",
      "year                      0\n",
      "bank_account              0\n",
      "location_type             0\n",
      "cellphone_access          0\n",
      "household_size            0\n",
      "age_of_respondent         0\n",
      "gender_of_respondent      0\n",
      "relationship_with_head    0\n",
      "marital_status            0\n",
      "education_level           0\n",
      "job_type                  0\n",
      "dtype: int64\n"
     ]
    }
   ],
   "source": [
    "print(df.isnull().sum())\n"
   ]
  },
  {
   "cell_type": "code",
   "execution_count": 28,
   "id": "94ebe1f5",
   "metadata": {},
   "outputs": [
    {
     "data": {
      "text/plain": [
       "array(['Secondary education', 'No formal education',\n",
       "       'Vocational/Specialised training', 'Primary education',\n",
       "       'Tertiary education', 'Other/Dont know/RTA'], dtype=object)"
      ]
     },
     "execution_count": 28,
     "metadata": {},
     "output_type": "execute_result"
    }
   ],
   "source": [
    "df['education_level'].unique()"
   ]
  },
  {
   "cell_type": "code",
   "execution_count": 29,
   "id": "3f3035f5",
   "metadata": {},
   "outputs": [
    {
     "name": "stderr",
     "output_type": "stream",
     "text": [
      "C:\\Users\\admin\\AppData\\Local\\Temp\\ipykernel_11708\\2304001653.py:2: SettingWithCopyWarning: \n",
      "A value is trying to be set on a copy of a slice from a DataFrame.\n",
      "Try using .loc[row_indexer,col_indexer] = value instead\n",
      "\n",
      "See the caveats in the documentation: https://pandas.pydata.org/pandas-docs/stable/user_guide/indexing.html#returning-a-view-versus-a-copy\n",
      "  df[\"education_level\"] = df[\"education_level\"].str.strip().str.lower()\n",
      "C:\\Users\\admin\\AppData\\Local\\Temp\\ipykernel_11708\\2304001653.py:5: SettingWithCopyWarning: \n",
      "A value is trying to be set on a copy of a slice from a DataFrame.\n",
      "Try using .loc[row_indexer,col_indexer] = value instead\n",
      "\n",
      "See the caveats in the documentation: https://pandas.pydata.org/pandas-docs/stable/user_guide/indexing.html#returning-a-view-versus-a-copy\n",
      "  df[\"education_level\"] = df[\"education_level\"].replace({\n"
     ]
    }
   ],
   "source": [
    "# Standardize education_level values\n",
    "df[\"education_level\"] = df[\"education_level\"].str.strip().str.lower()\n",
    "\n",
    "# Replace with simplified labels\n",
    "df[\"education_level\"] = df[\"education_level\"].replace({\n",
    "    \"secondary education\": \"secondary\",\n",
    "    \"no formal education\": \"none\",\n",
    "    \"vocational/specialised training\": \"vocational\",\n",
    "    \"primary education\": \"primary\",\n",
    "    \"tertiary education\": \"tertiary\",\n",
    "    \"other/dont know/rta\": \"other\"\n",
    "})\n"
   ]
  },
  {
   "cell_type": "code",
   "execution_count": 30,
   "id": "7fa9f1f4",
   "metadata": {},
   "outputs": [
    {
     "data": {
      "text/html": [
       "<div>\n",
       "<style scoped>\n",
       "    .dataframe tbody tr th:only-of-type {\n",
       "        vertical-align: middle;\n",
       "    }\n",
       "\n",
       "    .dataframe tbody tr th {\n",
       "        vertical-align: top;\n",
       "    }\n",
       "\n",
       "    .dataframe thead th {\n",
       "        text-align: right;\n",
       "    }\n",
       "</style>\n",
       "<table border=\"1\" class=\"dataframe\">\n",
       "  <thead>\n",
       "    <tr style=\"text-align: right;\">\n",
       "      <th></th>\n",
       "      <th>country</th>\n",
       "      <th>year</th>\n",
       "      <th>bank_account</th>\n",
       "      <th>location_type</th>\n",
       "      <th>cellphone_access</th>\n",
       "      <th>household_size</th>\n",
       "      <th>age_of_respondent</th>\n",
       "      <th>gender_of_respondent</th>\n",
       "      <th>relationship_with_head</th>\n",
       "      <th>marital_status</th>\n",
       "      <th>education_level</th>\n",
       "      <th>job_type</th>\n",
       "    </tr>\n",
       "  </thead>\n",
       "  <tbody>\n",
       "    <tr>\n",
       "      <th>0</th>\n",
       "      <td>Kenya</td>\n",
       "      <td>2018</td>\n",
       "      <td>1</td>\n",
       "      <td>Rural</td>\n",
       "      <td>Yes</td>\n",
       "      <td>3</td>\n",
       "      <td>24</td>\n",
       "      <td>Female</td>\n",
       "      <td>Spouse</td>\n",
       "      <td>married</td>\n",
       "      <td>secondary</td>\n",
       "      <td>Self employed</td>\n",
       "    </tr>\n",
       "    <tr>\n",
       "      <th>1</th>\n",
       "      <td>Kenya</td>\n",
       "      <td>2018</td>\n",
       "      <td>0</td>\n",
       "      <td>Rural</td>\n",
       "      <td>No</td>\n",
       "      <td>5</td>\n",
       "      <td>70</td>\n",
       "      <td>Female</td>\n",
       "      <td>Head of Household</td>\n",
       "      <td>widowed</td>\n",
       "      <td>none</td>\n",
       "      <td>Government Dependent</td>\n",
       "    </tr>\n",
       "    <tr>\n",
       "      <th>2</th>\n",
       "      <td>Kenya</td>\n",
       "      <td>2018</td>\n",
       "      <td>1</td>\n",
       "      <td>Urban</td>\n",
       "      <td>Yes</td>\n",
       "      <td>5</td>\n",
       "      <td>26</td>\n",
       "      <td>Male</td>\n",
       "      <td>Other relative</td>\n",
       "      <td>single</td>\n",
       "      <td>vocational</td>\n",
       "      <td>Self employed</td>\n",
       "    </tr>\n",
       "    <tr>\n",
       "      <th>3</th>\n",
       "      <td>Kenya</td>\n",
       "      <td>2018</td>\n",
       "      <td>0</td>\n",
       "      <td>Rural</td>\n",
       "      <td>Yes</td>\n",
       "      <td>5</td>\n",
       "      <td>34</td>\n",
       "      <td>Female</td>\n",
       "      <td>Head of Household</td>\n",
       "      <td>married</td>\n",
       "      <td>primary</td>\n",
       "      <td>Formally employed Private</td>\n",
       "    </tr>\n",
       "    <tr>\n",
       "      <th>4</th>\n",
       "      <td>Kenya</td>\n",
       "      <td>2018</td>\n",
       "      <td>0</td>\n",
       "      <td>Urban</td>\n",
       "      <td>No</td>\n",
       "      <td>8</td>\n",
       "      <td>26</td>\n",
       "      <td>Male</td>\n",
       "      <td>Child</td>\n",
       "      <td>single</td>\n",
       "      <td>primary</td>\n",
       "      <td>Informally employed</td>\n",
       "    </tr>\n",
       "    <tr>\n",
       "      <th>...</th>\n",
       "      <td>...</td>\n",
       "      <td>...</td>\n",
       "      <td>...</td>\n",
       "      <td>...</td>\n",
       "      <td>...</td>\n",
       "      <td>...</td>\n",
       "      <td>...</td>\n",
       "      <td>...</td>\n",
       "      <td>...</td>\n",
       "      <td>...</td>\n",
       "      <td>...</td>\n",
       "      <td>...</td>\n",
       "    </tr>\n",
       "    <tr>\n",
       "      <th>23519</th>\n",
       "      <td>Uganda</td>\n",
       "      <td>2018</td>\n",
       "      <td>0</td>\n",
       "      <td>Rural</td>\n",
       "      <td>Yes</td>\n",
       "      <td>4</td>\n",
       "      <td>48</td>\n",
       "      <td>Female</td>\n",
       "      <td>Head of Household</td>\n",
       "      <td>divorced</td>\n",
       "      <td>none</td>\n",
       "      <td>Other Income</td>\n",
       "    </tr>\n",
       "    <tr>\n",
       "      <th>23520</th>\n",
       "      <td>Uganda</td>\n",
       "      <td>2018</td>\n",
       "      <td>0</td>\n",
       "      <td>Rural</td>\n",
       "      <td>Yes</td>\n",
       "      <td>2</td>\n",
       "      <td>27</td>\n",
       "      <td>Female</td>\n",
       "      <td>Head of Household</td>\n",
       "      <td>single</td>\n",
       "      <td>secondary</td>\n",
       "      <td>Other Income</td>\n",
       "    </tr>\n",
       "    <tr>\n",
       "      <th>23521</th>\n",
       "      <td>Uganda</td>\n",
       "      <td>2018</td>\n",
       "      <td>0</td>\n",
       "      <td>Rural</td>\n",
       "      <td>Yes</td>\n",
       "      <td>5</td>\n",
       "      <td>27</td>\n",
       "      <td>Female</td>\n",
       "      <td>Parent</td>\n",
       "      <td>widowed</td>\n",
       "      <td>primary</td>\n",
       "      <td>Other Income</td>\n",
       "    </tr>\n",
       "    <tr>\n",
       "      <th>23522</th>\n",
       "      <td>Uganda</td>\n",
       "      <td>2018</td>\n",
       "      <td>0</td>\n",
       "      <td>Urban</td>\n",
       "      <td>Yes</td>\n",
       "      <td>7</td>\n",
       "      <td>30</td>\n",
       "      <td>Female</td>\n",
       "      <td>Parent</td>\n",
       "      <td>divorced</td>\n",
       "      <td>secondary</td>\n",
       "      <td>Self employed</td>\n",
       "    </tr>\n",
       "    <tr>\n",
       "      <th>23523</th>\n",
       "      <td>Uganda</td>\n",
       "      <td>2018</td>\n",
       "      <td>0</td>\n",
       "      <td>Rural</td>\n",
       "      <td>Yes</td>\n",
       "      <td>10</td>\n",
       "      <td>20</td>\n",
       "      <td>Male</td>\n",
       "      <td>Child</td>\n",
       "      <td>single</td>\n",
       "      <td>secondary</td>\n",
       "      <td>No Income</td>\n",
       "    </tr>\n",
       "  </tbody>\n",
       "</table>\n",
       "<p>23524 rows × 12 columns</p>\n",
       "</div>"
      ],
      "text/plain": [
       "      country  year  bank_account location_type cellphone_access  \\\n",
       "0       Kenya  2018             1         Rural              Yes   \n",
       "1       Kenya  2018             0         Rural               No   \n",
       "2       Kenya  2018             1         Urban              Yes   \n",
       "3       Kenya  2018             0         Rural              Yes   \n",
       "4       Kenya  2018             0         Urban               No   \n",
       "...       ...   ...           ...           ...              ...   \n",
       "23519  Uganda  2018             0         Rural              Yes   \n",
       "23520  Uganda  2018             0         Rural              Yes   \n",
       "23521  Uganda  2018             0         Rural              Yes   \n",
       "23522  Uganda  2018             0         Urban              Yes   \n",
       "23523  Uganda  2018             0         Rural              Yes   \n",
       "\n",
       "       household_size  age_of_respondent gender_of_respondent  \\\n",
       "0                   3                 24               Female   \n",
       "1                   5                 70               Female   \n",
       "2                   5                 26                 Male   \n",
       "3                   5                 34               Female   \n",
       "4                   8                 26                 Male   \n",
       "...               ...                ...                  ...   \n",
       "23519               4                 48               Female   \n",
       "23520               2                 27               Female   \n",
       "23521               5                 27               Female   \n",
       "23522               7                 30               Female   \n",
       "23523              10                 20                 Male   \n",
       "\n",
       "      relationship_with_head marital_status education_level  \\\n",
       "0                     Spouse        married       secondary   \n",
       "1          Head of Household        widowed            none   \n",
       "2             Other relative         single      vocational   \n",
       "3          Head of Household        married         primary   \n",
       "4                      Child         single         primary   \n",
       "...                      ...            ...             ...   \n",
       "23519      Head of Household       divorced            none   \n",
       "23520      Head of Household         single       secondary   \n",
       "23521                 Parent        widowed         primary   \n",
       "23522                 Parent       divorced       secondary   \n",
       "23523                  Child         single       secondary   \n",
       "\n",
       "                        job_type  \n",
       "0                  Self employed  \n",
       "1           Government Dependent  \n",
       "2                  Self employed  \n",
       "3      Formally employed Private  \n",
       "4            Informally employed  \n",
       "...                          ...  \n",
       "23519               Other Income  \n",
       "23520               Other Income  \n",
       "23521               Other Income  \n",
       "23522              Self employed  \n",
       "23523                  No Income  \n",
       "\n",
       "[23524 rows x 12 columns]"
      ]
     },
     "execution_count": 30,
     "metadata": {},
     "output_type": "execute_result"
    }
   ],
   "source": [
    "df"
   ]
  },
  {
   "cell_type": "markdown",
   "id": "8fb33a99",
   "metadata": {},
   "source": [
    "# Vusualization"
   ]
  },
  {
   "cell_type": "code",
   "execution_count": 31,
   "id": "f0d02c9b",
   "metadata": {},
   "outputs": [
    {
     "data": {
      "image/png": "[encoded data removed]",
      "text/plain": [
       "<Figure size 600x400 with 1 Axes>"
      ]
     },
     "metadata": {},
     "output_type": "display_data"
    }
   ],
   "source": [
    "# 1. Countplot: Bank account ownership by gender\n",
    "plt.figure(figsize=(6,4))\n",
    "sns.countplot(data=df, x=\"bank_account\", hue=\"gender_of_respondent\")\n",
    "plt.title(\"Bank Account Ownership by Gender\")\n",
    "plt.xlabel(\"Bank Account\")\n",
    "plt.ylabel(\"Count\")\n",
    "plt.show()"
   ]
  },
  {
   "cell_type": "code",
   "execution_count": 32,
   "id": "0c90ccee",
   "metadata": {},
   "outputs": [
    {
     "name": "stderr",
     "output_type": "stream",
     "text": [
      "C:\\Users\\admin\\AppData\\Local\\Temp\\ipykernel_11708\\3594938268.py:2: SettingWithCopyWarning: \n",
      "A value is trying to be set on a copy of a slice from a DataFrame.\n",
      "Try using .loc[row_indexer,col_indexer] = value instead\n",
      "\n",
      "See the caveats in the documentation: https://pandas.pydata.org/pandas-docs/stable/user_guide/indexing.html#returning-a-view-versus-a-copy\n",
      "  df['age_of_respondent'] = pd.to_numeric(df['age_of_respondent'], errors='coerce')\n"
     ]
    },
    {
     "data": {
      "image/png": "[encoded data removed]",
      "text/plain": [
       "<Figure size 600x400 with 1 Axes>"
      ]
     },
     "metadata": {},
     "output_type": "display_data"
    }
   ],
   "source": [
    "# ensure numeric (optional but good)\n",
    "df['age_of_respondent'] = pd.to_numeric(df['age_of_respondent'], errors='coerce')\n",
    "\n",
    "plt.figure(figsize=(6,4))\n",
    "sns.barplot(\n",
    "    data=df,\n",
    "    x=\"marital_status\",\n",
    "    y=\"age_of_respondent\",\n",
    "    estimator=np.mean        # <- use a callable, not \"mean\"\n",
    ")\n",
    "plt.title(\"Average Age by Marital Status\")\n",
    "plt.xlabel(\"Marital Status\")\n",
    "plt.ylabel(\"Average Age\")\n",
    "plt.show()"
   ]
  },
  {
   "cell_type": "code",
   "execution_count": 33,
   "id": "77f36e58",
   "metadata": {},
   "outputs": [
    {
     "data": {
      "image/png": "[encoded data removed]",
      "text/plain": [
       "<Figure size 600x400 with 1 Axes>"
      ]
     },
     "metadata": {},
     "output_type": "display_data"
    }
   ],
   "source": [
    "# 3. Boxplot: Household size distribution by location type\n",
    "plt.figure(figsize=(6,4))\n",
    "sns.boxplot(data=df, x=\"location_type\", y=\"household_size\")\n",
    "plt.title(\"Household Size by Location Type\")\n",
    "plt.xlabel(\"Location Type\")\n",
    "plt.ylabel(\"Household Size\")\n",
    "plt.show()"
   ]
  },
  {
   "cell_type": "code",
   "execution_count": 34,
   "id": "c510a396",
   "metadata": {},
   "outputs": [
    {
     "data": {
      "image/png": "[encoded data removed]",
      "text/plain": [
       "<Figure size 600x400 with 1 Axes>"
      ]
     },
     "metadata": {},
     "output_type": "display_data"
    }
   ],
   "source": [
    "\n",
    "\n",
    "# IQR method for household_size\n",
    "Q1 = df[\"household_size\"].quantile(0.25)\n",
    "Q3 = df[\"household_size\"].quantile(0.75)\n",
    "IQR = Q3 - Q1\n",
    "\n",
    "# keep only non-outliers\n",
    "df_no_outlier = df[\n",
    "    (df[\"household_size\"] >= Q1 - 1.5*IQR) &\n",
    "    (df[\"household_size\"] <= Q3 + 1.5*IQR)\n",
    "]\n",
    "\n",
    "# Boxplot without outliers\n",
    "plt.figure(figsize=(6,4))\n",
    "sns.boxplot(data=df_no_outlier, x=\"location_type\", y=\"household_size\")\n",
    "plt.title(\"Household Size by Location Type (Outliers Removed)\")\n",
    "plt.xlabel(\"Location Type\")\n",
    "plt.ylabel(\"Household Size\")\n",
    "plt.show()\n"
   ]
  },
  {
   "cell_type": "code",
   "execution_count": 35,
   "id": "52946a47",
   "metadata": {},
   "outputs": [
    {
     "data": {
      "image/png": "[encoded data removed]",
      "text/plain": [
       "<Figure size 800x400 with 1 Axes>"
      ]
     },
     "metadata": {},
     "output_type": "display_data"
    }
   ],
   "source": [
    "# 4. Countplot: Education levels\n",
    "plt.figure(figsize=(8,4))\n",
    "sns.countplot(data=df, x=\"education_level\", order=df[\"education_level\"].value_counts().index)\n",
    "plt.title(\"Distribution of Education Levels\")\n",
    "plt.xlabel(\"Education Level\")\n",
    "plt.ylabel(\"Count\")\n",
    "plt.xticks(rotation=30)\n",
    "plt.show()"
   ]
  },
  {
   "cell_type": "code",
   "execution_count": 36,
   "id": "9ae5fa78",
   "metadata": {},
   "outputs": [
    {
     "data": {
      "image/png": "[encoded data removed]",
      "text/plain": [
       "<Figure size 1000x500 with 1 Axes>"
      ]
     },
     "metadata": {},
     "output_type": "display_data"
    }
   ],
   "source": [
    "# 5. Stacked bar chart: Job type vs. Bank account\n",
    "job_bank = pd.crosstab(df[\"job_type\"], df[\"bank_account\"])\n",
    "job_bank.plot(kind=\"bar\", stacked=True, figsize=(10,5))\n",
    "plt.title(\"Job Type vs Bank Account Ownership\")\n",
    "plt.xlabel(\"Job Type\")\n",
    "plt.ylabel(\"Count\")\n",
    "plt.xticks(rotation=45)\n",
    "plt.show()"
   ]
  },
  {
   "cell_type": "code",
   "execution_count": 37,
   "id": "3aaaf364",
   "metadata": {},
   "outputs": [
    {
     "name": "stderr",
     "output_type": "stream",
     "text": [
      "C:\\Users\\admin\\anaconda3\\lib\\site-packages\\seaborn\\_oldcore.py:1119: FutureWarning: use_inf_as_na option is deprecated and will be removed in a future version. Convert inf values to NaN before operating instead.\n",
      "  with pd.option_context('mode.use_inf_as_na', True):\n",
      "C:\\Users\\admin\\anaconda3\\lib\\site-packages\\seaborn\\_oldcore.py:1075: FutureWarning: When grouping with a length-1 list-like, you will need to pass a length-1 tuple to get_group in a future version of pandas. Pass `(name,)` instead of `name` to silence this warning.\n",
      "  data_subset = grouped_data.get_group(pd_key)\n",
      "C:\\Users\\admin\\anaconda3\\lib\\site-packages\\seaborn\\_oldcore.py:1075: FutureWarning: When grouping with a length-1 list-like, you will need to pass a length-1 tuple to get_group in a future version of pandas. Pass `(name,)` instead of `name` to silence this warning.\n",
      "  data_subset = grouped_data.get_group(pd_key)\n",
      "C:\\Users\\admin\\anaconda3\\lib\\site-packages\\seaborn\\_oldcore.py:1075: FutureWarning: When grouping with a length-1 list-like, you will need to pass a length-1 tuple to get_group in a future version of pandas. Pass `(name,)` instead of `name` to silence this warning.\n",
      "  data_subset = grouped_data.get_group(pd_key)\n"
     ]
    },
    {
     "data": {
      "image/png": "[encoded data removed]",
      "text/plain": [
       "<Figure size 640x480 with 1 Axes>"
      ]
     },
     "metadata": {},
     "output_type": "display_data"
    }
   ],
   "source": [
    "# 4. Age distribution by bank account ownership\n",
    "# ----------------------\n",
    "sns.histplot(data=df, x=\"age_of_respondent\", hue=\"bank_account\", multiple=\"stack\", bins=10)\n",
    "plt.title(\"Age Distribution vs Bank Account Ownership\")\n",
    "plt.show()\n"
   ]
  },
  {
   "cell_type": "code",
   "execution_count": 38,
   "id": "529235ac",
   "metadata": {},
   "outputs": [
    {
     "data": {
      "image/png": "[encoded data removed]",
      "text/plain": [
       "<Figure size 640x480 with 1 Axes>"
      ]
     },
     "metadata": {},
     "output_type": "display_data"
    }
   ],
   "source": [
    "# 5. Education level vs bank account ownership\n",
    "# ----------------------\n",
    "sns.countplot(data=df, x=\"education_level\", hue=\"bank_account\")\n",
    "plt.title(\"Education Level vs Bank Account Ownership\")\n",
    "plt.xticks(rotation=45)\n",
    "plt.legend(labels=[\"No\", \"Yes\"])\n",
    "plt.show()"
   ]
  },
  {
   "cell_type": "code",
   "execution_count": 39,
   "id": "4dd79c22",
   "metadata": {},
   "outputs": [
    {
     "data": {
      "image/png": "[encoded data removed]",
      "text/plain": [
       "<Figure size 640x480 with 1 Axes>"
      ]
     },
     "metadata": {},
     "output_type": "display_data"
    }
   ],
   "source": [
    "# 3. Bank account by location (Urban vs Rural)\n",
    "# ----------------------\n",
    "sns.countplot(data=df, x=\"location_type\", hue=\"bank_account\")\n",
    "plt.title(\"Bank Account by Location\")\n",
    "plt.legend(labels=[\"No\", \"Yes\"])\n",
    "plt.show()"
   ]
  },
  {
   "cell_type": "code",
   "execution_count": 40,
   "id": "3227f5b2",
   "metadata": {},
   "outputs": [
    {
     "data": {
      "image/png": "[encoded data removed]",
      "text/plain": [
       "<Figure size 640x480 with 1 Axes>"
      ]
     },
     "metadata": {},
     "output_type": "display_data"
    }
   ],
   "source": [
    "# 2. Bank account by gender\n",
    "# ----------------------\n",
    "sns.countplot(data=df, x=\"gender_of_respondent\", hue=\"bank_account\")\n",
    "plt.title(\"Bank Account by Gender\")\n",
    "plt.legend(labels=[\"No\", \"Yes\"])\n",
    "plt.show()"
   ]
  },
  {
   "cell_type": "code",
   "execution_count": 41,
   "id": "507f3b36",
   "metadata": {},
   "outputs": [
    {
     "data": {
      "image/png": "[encoded data removed]",
      "text/plain": [
       "<Figure size 640x480 with 1 Axes>"
      ]
     },
     "metadata": {},
     "output_type": "display_data"
    }
   ],
   "source": [
    "# 1. Bank account distribution\n",
    "# ----------------------\n",
    "sns.countplot(data=df, x=\"bank_account\")\n",
    "plt.title(\"Bank Account Ownership\")\n",
    "plt.xticks([0, 1], [\"No\", \"Yes\"])\n",
    "plt.show()"
   ]
  },
  {
   "cell_type": "code",
   "execution_count": 42,
   "id": "b3521c26",
   "metadata": {},
   "outputs": [
    {
     "data": {
      "image/png": "[encoded data removed]",
      "text/plain": [
       "<Figure size 600x600 with 1 Axes>"
      ]
     },
     "metadata": {},
     "output_type": "display_data"
    }
   ],
   "source": [
    "# Pie chart\n",
    "\n",
    "\n",
    "# Count values\n",
    "bank_counts = df[\"bank_account\"].value_counts()\n",
    "\n",
    "# Pie chart\n",
    "plt.figure(figsize=(6,6))\n",
    "plt.pie(\n",
    "    bank_counts,\n",
    "    labels=[\"No\", \"Yes\"],   # since 0=No, 1=Yes\n",
    "    autopct='%1.1f%%',\n",
    "    startangle=90,\n",
    "    colors=[\"tomato\", \"skyblue\"]\n",
    ")\n",
    "plt.title(\"Bank Account Ownership Distribution\")\n",
    "plt.show()\n"
   ]
  },
  {
   "cell_type": "code",
   "execution_count": 43,
   "id": "cedde4ea",
   "metadata": {},
   "outputs": [
    {
     "data": {
      "text/plain": [
       "<Figure size 600x600 with 0 Axes>"
      ]
     },
     "metadata": {},
     "output_type": "display_data"
    },
    {
     "data": {
      "image/png": "[encoded data removed]",
      "text/plain": [
       "<Figure size 1000x600 with 2 Axes>"
      ]
     },
     "metadata": {},
     "output_type": "display_data"
    }
   ],
   "source": [
    "gender_counts = df.groupby(\"gender_of_respondent\")[\"bank_account\"].value_counts()\n",
    "\n",
    "plt.figure(figsize=(6,6))\n",
    "gender_counts.unstack().plot(\n",
    "    kind=\"pie\",\n",
    "    subplots=True,\n",
    "    autopct='%1.1f%%',\n",
    "    startangle=90,\n",
    "    figsize=(10,6),\n",
    "    legend=False\n",
    ")\n",
    "plt.suptitle(\"Bank Account Ownership by Gender\")\n",
    "plt.show()\n"
   ]
  },
  {
   "cell_type": "code",
   "execution_count": 44,
   "id": "44e7cf7b",
   "metadata": {},
   "outputs": [
    {
     "data": {
      "text/plain": [
       "<Figure size 600x600 with 0 Axes>"
      ]
     },
     "metadata": {},
     "output_type": "display_data"
    },
    {
     "data": {
      "image/png": "[encoded data removed]",
      "text/plain": [
       "<Figure size 1000x600 with 2 Axes>"
      ]
     },
     "metadata": {},
     "output_type": "display_data"
    }
   ],
   "source": [
    "location_counts = df.groupby(\"location_type\")[\"bank_account\"].value_counts()\n",
    "\n",
    "plt.figure(figsize=(6,6))\n",
    "location_counts.unstack().plot(\n",
    "    kind=\"pie\",\n",
    "    subplots=True,\n",
    "    autopct='%1.1f%%',\n",
    "    startangle=90,\n",
    "    figsize=(10,6),\n",
    "    legend=False\n",
    ")\n",
    "plt.suptitle(\"Bank Account Ownership by Location\")\n",
    "plt.show()\n"
   ]
  },
  {
   "cell_type": "markdown",
   "id": "78b63179",
   "metadata": {},
   "source": [
    "# Feature Engineering"
   ]
  },
  {
   "cell_type": "code",
   "execution_count": 45,
   "id": "1881efd0",
   "metadata": {},
   "outputs": [
    {
     "name": "stderr",
     "output_type": "stream",
     "text": [
      "C:\\Users\\admin\\AppData\\Local\\Temp\\ipykernel_11708\\865498175.py:6: SettingWithCopyWarning: \n",
      "A value is trying to be set on a copy of a slice from a DataFrame.\n",
      "Try using .loc[row_indexer,col_indexer] = value instead\n",
      "\n",
      "See the caveats in the documentation: https://pandas.pydata.org/pandas-docs/stable/user_guide/indexing.html#returning-a-view-versus-a-copy\n",
      "  df[col] = le.fit_transform(df[col])\n",
      "C:\\Users\\admin\\AppData\\Local\\Temp\\ipykernel_11708\\865498175.py:6: SettingWithCopyWarning: \n",
      "A value is trying to be set on a copy of a slice from a DataFrame.\n",
      "Try using .loc[row_indexer,col_indexer] = value instead\n",
      "\n",
      "See the caveats in the documentation: https://pandas.pydata.org/pandas-docs/stable/user_guide/indexing.html#returning-a-view-versus-a-copy\n",
      "  df[col] = le.fit_transform(df[col])\n",
      "C:\\Users\\admin\\AppData\\Local\\Temp\\ipykernel_11708\\865498175.py:6: SettingWithCopyWarning: \n",
      "A value is trying to be set on a copy of a slice from a DataFrame.\n",
      "Try using .loc[row_indexer,col_indexer] = value instead\n",
      "\n",
      "See the caveats in the documentation: https://pandas.pydata.org/pandas-docs/stable/user_guide/indexing.html#returning-a-view-versus-a-copy\n",
      "  df[col] = le.fit_transform(df[col])\n",
      "C:\\Users\\admin\\AppData\\Local\\Temp\\ipykernel_11708\\865498175.py:6: SettingWithCopyWarning: \n",
      "A value is trying to be set on a copy of a slice from a DataFrame.\n",
      "Try using .loc[row_indexer,col_indexer] = value instead\n",
      "\n",
      "See the caveats in the documentation: https://pandas.pydata.org/pandas-docs/stable/user_guide/indexing.html#returning-a-view-versus-a-copy\n",
      "  df[col] = le.fit_transform(df[col])\n",
      "C:\\Users\\admin\\AppData\\Local\\Temp\\ipykernel_11708\\865498175.py:6: SettingWithCopyWarning: \n",
      "A value is trying to be set on a copy of a slice from a DataFrame.\n",
      "Try using .loc[row_indexer,col_indexer] = value instead\n",
      "\n",
      "See the caveats in the documentation: https://pandas.pydata.org/pandas-docs/stable/user_guide/indexing.html#returning-a-view-versus-a-copy\n",
      "  df[col] = le.fit_transform(df[col])\n",
      "C:\\Users\\admin\\AppData\\Local\\Temp\\ipykernel_11708\\865498175.py:6: SettingWithCopyWarning: \n",
      "A value is trying to be set on a copy of a slice from a DataFrame.\n",
      "Try using .loc[row_indexer,col_indexer] = value instead\n",
      "\n",
      "See the caveats in the documentation: https://pandas.pydata.org/pandas-docs/stable/user_guide/indexing.html#returning-a-view-versus-a-copy\n",
      "  df[col] = le.fit_transform(df[col])\n",
      "C:\\Users\\admin\\AppData\\Local\\Temp\\ipykernel_11708\\865498175.py:6: SettingWithCopyWarning: \n",
      "A value is trying to be set on a copy of a slice from a DataFrame.\n",
      "Try using .loc[row_indexer,col_indexer] = value instead\n",
      "\n",
      "See the caveats in the documentation: https://pandas.pydata.org/pandas-docs/stable/user_guide/indexing.html#returning-a-view-versus-a-copy\n",
      "  df[col] = le.fit_transform(df[col])\n",
      "C:\\Users\\admin\\AppData\\Local\\Temp\\ipykernel_11708\\865498175.py:6: SettingWithCopyWarning: \n",
      "A value is trying to be set on a copy of a slice from a DataFrame.\n",
      "Try using .loc[row_indexer,col_indexer] = value instead\n",
      "\n",
      "See the caveats in the documentation: https://pandas.pydata.org/pandas-docs/stable/user_guide/indexing.html#returning-a-view-versus-a-copy\n",
      "  df[col] = le.fit_transform(df[col])\n"
     ]
    }
   ],
   "source": [
    "# 2. Encode categorical columns\n",
    "from sklearn.preprocessing import LabelEncoder, StandardScaler\n",
    "label_encoders = {}\n",
    "for col in df.select_dtypes(include=[\"object\"]).columns:\n",
    "    le = LabelEncoder()\n",
    "    df[col] = le.fit_transform(df[col])\n",
    "    label_encoders[col] = le\n"
   ]
  },
  {
   "cell_type": "code",
   "execution_count": 69,
   "id": "52a492d4",
   "metadata": {},
   "outputs": [
    {
     "data": {
      "text/html": [
       "<div>\n",
       "<style scoped>\n",
       "    .dataframe tbody tr th:only-of-type {\n",
       "        vertical-align: middle;\n",
       "    }\n",
       "\n",
       "    .dataframe tbody tr th {\n",
       "        vertical-align: top;\n",
       "    }\n",
       "\n",
       "    .dataframe thead th {\n",
       "        text-align: right;\n",
       "    }\n",
       "</style>\n",
       "<table border=\"1\" class=\"dataframe\">\n",
       "  <thead>\n",
       "    <tr style=\"text-align: right;\">\n",
       "      <th></th>\n",
       "      <th>country</th>\n",
       "      <th>year</th>\n",
       "      <th>bank_account</th>\n",
       "      <th>location_type</th>\n",
       "      <th>cellphone_access</th>\n",
       "      <th>household_size</th>\n",
       "      <th>age_of_respondent</th>\n",
       "      <th>gender_of_respondent</th>\n",
       "      <th>relationship_with_head</th>\n",
       "      <th>marital_status</th>\n",
       "      <th>education_level</th>\n",
       "      <th>job_type</th>\n",
       "    </tr>\n",
       "  </thead>\n",
       "  <tbody>\n",
       "    <tr>\n",
       "      <th>0</th>\n",
       "      <td>0</td>\n",
       "      <td>2018</td>\n",
       "      <td>1</td>\n",
       "      <td>0</td>\n",
       "      <td>1</td>\n",
       "      <td>3</td>\n",
       "      <td>24</td>\n",
       "      <td>0</td>\n",
       "      <td>5</td>\n",
       "      <td>1</td>\n",
       "      <td>3</td>\n",
       "      <td>9</td>\n",
       "    </tr>\n",
       "    <tr>\n",
       "      <th>1</th>\n",
       "      <td>0</td>\n",
       "      <td>2018</td>\n",
       "      <td>0</td>\n",
       "      <td>0</td>\n",
       "      <td>0</td>\n",
       "      <td>5</td>\n",
       "      <td>70</td>\n",
       "      <td>0</td>\n",
       "      <td>1</td>\n",
       "      <td>4</td>\n",
       "      <td>0</td>\n",
       "      <td>4</td>\n",
       "    </tr>\n",
       "    <tr>\n",
       "      <th>2</th>\n",
       "      <td>0</td>\n",
       "      <td>2018</td>\n",
       "      <td>1</td>\n",
       "      <td>1</td>\n",
       "      <td>1</td>\n",
       "      <td>5</td>\n",
       "      <td>26</td>\n",
       "      <td>1</td>\n",
       "      <td>3</td>\n",
       "      <td>2</td>\n",
       "      <td>5</td>\n",
       "      <td>9</td>\n",
       "    </tr>\n",
       "    <tr>\n",
       "      <th>3</th>\n",
       "      <td>0</td>\n",
       "      <td>2018</td>\n",
       "      <td>0</td>\n",
       "      <td>0</td>\n",
       "      <td>1</td>\n",
       "      <td>5</td>\n",
       "      <td>34</td>\n",
       "      <td>0</td>\n",
       "      <td>1</td>\n",
       "      <td>1</td>\n",
       "      <td>2</td>\n",
       "      <td>3</td>\n",
       "    </tr>\n",
       "    <tr>\n",
       "      <th>4</th>\n",
       "      <td>0</td>\n",
       "      <td>2018</td>\n",
       "      <td>0</td>\n",
       "      <td>1</td>\n",
       "      <td>0</td>\n",
       "      <td>8</td>\n",
       "      <td>26</td>\n",
       "      <td>1</td>\n",
       "      <td>0</td>\n",
       "      <td>2</td>\n",
       "      <td>2</td>\n",
       "      <td>5</td>\n",
       "    </tr>\n",
       "    <tr>\n",
       "      <th>...</th>\n",
       "      <td>...</td>\n",
       "      <td>...</td>\n",
       "      <td>...</td>\n",
       "      <td>...</td>\n",
       "      <td>...</td>\n",
       "      <td>...</td>\n",
       "      <td>...</td>\n",
       "      <td>...</td>\n",
       "      <td>...</td>\n",
       "      <td>...</td>\n",
       "      <td>...</td>\n",
       "      <td>...</td>\n",
       "    </tr>\n",
       "    <tr>\n",
       "      <th>23519</th>\n",
       "      <td>3</td>\n",
       "      <td>2018</td>\n",
       "      <td>0</td>\n",
       "      <td>0</td>\n",
       "      <td>1</td>\n",
       "      <td>4</td>\n",
       "      <td>48</td>\n",
       "      <td>0</td>\n",
       "      <td>1</td>\n",
       "      <td>0</td>\n",
       "      <td>0</td>\n",
       "      <td>7</td>\n",
       "    </tr>\n",
       "    <tr>\n",
       "      <th>23520</th>\n",
       "      <td>3</td>\n",
       "      <td>2018</td>\n",
       "      <td>0</td>\n",
       "      <td>0</td>\n",
       "      <td>1</td>\n",
       "      <td>2</td>\n",
       "      <td>27</td>\n",
       "      <td>0</td>\n",
       "      <td>1</td>\n",
       "      <td>2</td>\n",
       "      <td>3</td>\n",
       "      <td>7</td>\n",
       "    </tr>\n",
       "    <tr>\n",
       "      <th>23521</th>\n",
       "      <td>3</td>\n",
       "      <td>2018</td>\n",
       "      <td>0</td>\n",
       "      <td>0</td>\n",
       "      <td>1</td>\n",
       "      <td>5</td>\n",
       "      <td>27</td>\n",
       "      <td>0</td>\n",
       "      <td>4</td>\n",
       "      <td>4</td>\n",
       "      <td>2</td>\n",
       "      <td>7</td>\n",
       "    </tr>\n",
       "    <tr>\n",
       "      <th>23522</th>\n",
       "      <td>3</td>\n",
       "      <td>2018</td>\n",
       "      <td>0</td>\n",
       "      <td>1</td>\n",
       "      <td>1</td>\n",
       "      <td>7</td>\n",
       "      <td>30</td>\n",
       "      <td>0</td>\n",
       "      <td>4</td>\n",
       "      <td>0</td>\n",
       "      <td>3</td>\n",
       "      <td>9</td>\n",
       "    </tr>\n",
       "    <tr>\n",
       "      <th>23523</th>\n",
       "      <td>3</td>\n",
       "      <td>2018</td>\n",
       "      <td>0</td>\n",
       "      <td>0</td>\n",
       "      <td>1</td>\n",
       "      <td>10</td>\n",
       "      <td>20</td>\n",
       "      <td>1</td>\n",
       "      <td>0</td>\n",
       "      <td>2</td>\n",
       "      <td>3</td>\n",
       "      <td>6</td>\n",
       "    </tr>\n",
       "  </tbody>\n",
       "</table>\n",
       "<p>23524 rows × 12 columns</p>\n",
       "</div>"
      ],
      "text/plain": [
       "       country  year  bank_account  location_type  cellphone_access  \\\n",
       "0            0  2018             1              0                 1   \n",
       "1            0  2018             0              0                 0   \n",
       "2            0  2018             1              1                 1   \n",
       "3            0  2018             0              0                 1   \n",
       "4            0  2018             0              1                 0   \n",
       "...        ...   ...           ...            ...               ...   \n",
       "23519        3  2018             0              0                 1   \n",
       "23520        3  2018             0              0                 1   \n",
       "23521        3  2018             0              0                 1   \n",
       "23522        3  2018             0              1                 1   \n",
       "23523        3  2018             0              0                 1   \n",
       "\n",
       "       household_size  age_of_respondent  gender_of_respondent  \\\n",
       "0                   3                 24                     0   \n",
       "1                   5                 70                     0   \n",
       "2                   5                 26                     1   \n",
       "3                   5                 34                     0   \n",
       "4                   8                 26                     1   \n",
       "...               ...                ...                   ...   \n",
       "23519               4                 48                     0   \n",
       "23520               2                 27                     0   \n",
       "23521               5                 27                     0   \n",
       "23522               7                 30                     0   \n",
       "23523              10                 20                     1   \n",
       "\n",
       "       relationship_with_head  marital_status  education_level  job_type  \n",
       "0                           5               1                3         9  \n",
       "1                           1               4                0         4  \n",
       "2                           3               2                5         9  \n",
       "3                           1               1                2         3  \n",
       "4                           0               2                2         5  \n",
       "...                       ...             ...              ...       ...  \n",
       "23519                       1               0                0         7  \n",
       "23520                       1               2                3         7  \n",
       "23521                       4               4                2         7  \n",
       "23522                       4               0                3         9  \n",
       "23523                       0               2                3         6  \n",
       "\n",
       "[23524 rows x 12 columns]"
      ]
     },
     "execution_count": 69,
     "metadata": {},
     "output_type": "execute_result"
    }
   ],
   "source": [
    "df\n"
   ]
  },
  {
   "cell_type": "code",
   "execution_count": 47,
   "id": "5c7b3bde",
   "metadata": {},
   "outputs": [],
   "source": [
    "# 2. Features (X) -> remove target\n",
    "x = df.drop(columns=[ 'bank_account'], axis=1)\n",
    "y = df['bank_account']"
   ]
  },
  {
   "cell_type": "code",
   "execution_count": 48,
   "id": "420453fe",
   "metadata": {},
   "outputs": [
    {
     "data": {
      "text/html": [
       "<style>#sk-container-id-1 {color: black;background-color: white;}#sk-container-id-1 pre{padding: 0;}#sk-container-id-1 div.sk-toggleable {background-color: white;}#sk-container-id-1 label.sk-toggleable__label {cursor: pointer;display: block;width: 100%;margin-bottom: 0;padding: 0.3em;box-sizing: border-box;text-align: center;}#sk-container-id-1 label.sk-toggleable__label-arrow:before {content: \"▸\";float: left;margin-right: 0.25em;color: #696969;}#sk-container-id-1 label.sk-toggleable__label-arrow:hover:before {color: black;}#sk-container-id-1 div.sk-estimator:hover label.sk-toggleable__label-arrow:before {color: black;}#sk-container-id-1 div.sk-toggleable__content {max-height: 0;max-width: 0;overflow: hidden;text-align: left;background-color: #f0f8ff;}#sk-container-id-1 div.sk-toggleable__content pre {margin: 0.2em;color: black;border-radius: 0.25em;background-color: #f0f8ff;}#sk-container-id-1 input.sk-toggleable__control:checked~div.sk-toggleable__content {max-height: 200px;max-width: 100%;overflow: auto;}#sk-container-id-1 input.sk-toggleable__control:checked~label.sk-toggleable__label-arrow:before {content: \"▾\";}#sk-container-id-1 div.sk-estimator input.sk-toggleable__control:checked~label.sk-toggleable__label {background-color: #d4ebff;}#sk-container-id-1 div.sk-label input.sk-toggleable__control:checked~label.sk-toggleable__label {background-color: #d4ebff;}#sk-container-id-1 input.sk-hidden--visually {border: 0;clip: rect(1px 1px 1px 1px);clip: rect(1px, 1px, 1px, 1px);height: 1px;margin: -1px;overflow: hidden;padding: 0;position: absolute;width: 1px;}#sk-container-id-1 div.sk-estimator {font-family: monospace;background-color: #f0f8ff;border: 1px dotted black;border-radius: 0.25em;box-sizing: border-box;margin-bottom: 0.5em;}#sk-container-id-1 div.sk-estimator:hover {background-color: #d4ebff;}#sk-container-id-1 div.sk-parallel-item::after {content: \"\";width: 100%;border-bottom: 1px solid gray;flex-grow: 1;}#sk-container-id-1 div.sk-label:hover label.sk-toggleable__label {background-color: #d4ebff;}#sk-container-id-1 div.sk-serial::before {content: \"\";position: absolute;border-left: 1px solid gray;box-sizing: border-box;top: 0;bottom: 0;left: 50%;z-index: 0;}#sk-container-id-1 div.sk-serial {display: flex;flex-direction: column;align-items: center;background-color: white;padding-right: 0.2em;padding-left: 0.2em;position: relative;}#sk-container-id-1 div.sk-item {position: relative;z-index: 1;}#sk-container-id-1 div.sk-parallel {display: flex;align-items: stretch;justify-content: center;background-color: white;position: relative;}#sk-container-id-1 div.sk-item::before, #sk-container-id-1 div.sk-parallel-item::before {content: \"\";position: absolute;border-left: 1px solid gray;box-sizing: border-box;top: 0;bottom: 0;left: 50%;z-index: -1;}#sk-container-id-1 div.sk-parallel-item {display: flex;flex-direction: column;z-index: 1;position: relative;background-color: white;}#sk-container-id-1 div.sk-parallel-item:first-child::after {align-self: flex-end;width: 50%;}#sk-container-id-1 div.sk-parallel-item:last-child::after {align-self: flex-start;width: 50%;}#sk-container-id-1 div.sk-parallel-item:only-child::after {width: 0;}#sk-container-id-1 div.sk-dashed-wrapped {border: 1px dashed gray;margin: 0 0.4em 0.5em 0.4em;box-sizing: border-box;padding-bottom: 0.4em;background-color: white;}#sk-container-id-1 div.sk-label label {font-family: monospace;font-weight: bold;display: inline-block;line-height: 1.2em;}#sk-container-id-1 div.sk-label-container {text-align: center;}#sk-container-id-1 div.sk-container {/* jupyter's `normalize.less` sets `[hidden] { display: none; }` but bootstrap.min.css set `[hidden] { display: none !important; }` so we also need the `!important` here to be able to override the default hidden behavior on the sphinx rendered scikit-learn.org. See: https://github.com/scikit-learn/scikit-learn/issues/21755 */display: inline-block !important;position: relative;}#sk-container-id-1 div.sk-text-repr-fallback {display: none;}</style><div id=\"sk-container-id-1\" class=\"sk-top-container\"><div class=\"sk-text-repr-fallback\"><pre>StandardScaler()</pre><b>In a Jupyter environment, please rerun this cell to show the HTML representation or trust the notebook. <br />On GitHub, the HTML representation is unable to render, please try loading this page with nbviewer.org.</b></div><div class=\"sk-container\" hidden><div class=\"sk-item\"><div class=\"sk-estimator sk-toggleable\"><input class=\"sk-toggleable__control sk-hidden--visually\" id=\"sk-estimator-id-1\" type=\"checkbox\" checked><label for=\"sk-estimator-id-1\" class=\"sk-toggleable__label sk-toggleable__label-arrow\">StandardScaler</label><div class=\"sk-toggleable__content\"><pre>StandardScaler()</pre></div></div></div></div></div>"
      ],
      "text/plain": [
       "StandardScaler()"
      ]
     },
     "execution_count": 48,
     "metadata": {},
     "output_type": "execute_result"
    }
   ],
   "source": [
    "scaler = StandardScaler()\n",
    "scaler"
   ]
  },
  {
   "cell_type": "code",
   "execution_count": 49,
   "id": "95df2860",
   "metadata": {},
   "outputs": [
    {
     "data": {
      "text/plain": [
       "array([[-1.29944427,  1.20854126, -0.80006449, ..., -0.56717287,\n",
       "         0.83389097,  1.15462805],\n",
       "       [-1.29944427,  1.20854126, -0.80006449, ...,  2.28229846,\n",
       "        -1.65519051, -0.46420749],\n",
       "       [-1.29944427,  1.20854126,  1.24989924, ...,  0.38265091,\n",
       "         2.49327861,  1.15462805],\n",
       "       ...,\n",
       "       [ 1.94351424,  1.20854126, -0.80006449, ...,  2.28229846,\n",
       "         0.00419714,  0.50709384],\n",
       "       [ 1.94351424,  1.20854126,  1.24989924, ..., -1.51699664,\n",
       "         0.83389097,  1.15462805],\n",
       "       [ 1.94351424,  1.20854126, -0.80006449, ...,  0.38265091,\n",
       "         0.83389097,  0.18332673]])"
      ]
     },
     "execution_count": 49,
     "metadata": {},
     "output_type": "execute_result"
    }
   ],
   "source": [
    "x_scale = scaler.fit_transform(x)\n",
    "x_scale"
   ]
  },
  {
   "cell_type": "markdown",
   "id": "6b956733",
   "metadata": {},
   "source": [
    "# Model Building"
   ]
  },
  {
   "cell_type": "code",
   "execution_count": 50,
   "id": "c6724fdc",
   "metadata": {},
   "outputs": [],
   "source": [
    "from sklearn.model_selection import train_test_split\n",
    "# Train test split \n",
    "X_train, X_test, y_train, y_test = train_test_split(x_scale, y, test_size=0.3, random_state=42)\n"
   ]
  },
  {
   "cell_type": "code",
   "execution_count": 51,
   "id": "15878002",
   "metadata": {},
   "outputs": [],
   "source": [
    "from sklearn.metrics import precision_recall_fscore_support\n",
    "from sklearn.metrics import accuracy_score, classification_report, confusion_matrix, mean_absolute_percentage_error, mean_squared_error, roc_auc_score, auc, log_loss, precision_recall_fscore_support, mean_absolute_error\n",
    "from sklearn.metrics import roc_curve"
   ]
  },
  {
   "cell_type": "markdown",
   "id": "cd4a8525",
   "metadata": {},
   "source": [
    "# logistic Regression"
   ]
  },
  {
   "cell_type": "code",
   "execution_count": 52,
   "id": "8652e0a3",
   "metadata": {},
   "outputs": [],
   "source": [
    "from sklearn.linear_model import LogisticRegression\n",
    "from sklearn.metrics import accuracy_score, classification_report"
   ]
  },
  {
   "cell_type": "code",
   "execution_count": null,
   "id": "30c10e93",
   "metadata": {},
   "outputs": [],
   "source": []
  },
  {
   "cell_type": "code",
   "execution_count": 53,
   "id": "c6857fd5",
   "metadata": {},
   "outputs": [
    {
     "data": {
      "text/html": [
       "<style>#sk-container-id-2 {color: black;background-color: white;}#sk-container-id-2 pre{padding: 0;}#sk-container-id-2 div.sk-toggleable {background-color: white;}#sk-container-id-2 label.sk-toggleable__label {cursor: pointer;display: block;width: 100%;margin-bottom: 0;padding: 0.3em;box-sizing: border-box;text-align: center;}#sk-container-id-2 label.sk-toggleable__label-arrow:before {content: \"▸\";float: left;margin-right: 0.25em;color: #696969;}#sk-container-id-2 label.sk-toggleable__label-arrow:hover:before {color: black;}#sk-container-id-2 div.sk-estimator:hover label.sk-toggleable__label-arrow:before {color: black;}#sk-container-id-2 div.sk-toggleable__content {max-height: 0;max-width: 0;overflow: hidden;text-align: left;background-color: #f0f8ff;}#sk-container-id-2 div.sk-toggleable__content pre {margin: 0.2em;color: black;border-radius: 0.25em;background-color: #f0f8ff;}#sk-container-id-2 input.sk-toggleable__control:checked~div.sk-toggleable__content {max-height: 200px;max-width: 100%;overflow: auto;}#sk-container-id-2 input.sk-toggleable__control:checked~label.sk-toggleable__label-arrow:before {content: \"▾\";}#sk-container-id-2 div.sk-estimator input.sk-toggleable__control:checked~label.sk-toggleable__label {background-color: #d4ebff;}#sk-container-id-2 div.sk-label input.sk-toggleable__control:checked~label.sk-toggleable__label {background-color: #d4ebff;}#sk-container-id-2 input.sk-hidden--visually {border: 0;clip: rect(1px 1px 1px 1px);clip: rect(1px, 1px, 1px, 1px);height: 1px;margin: -1px;overflow: hidden;padding: 0;position: absolute;width: 1px;}#sk-container-id-2 div.sk-estimator {font-family: monospace;background-color: #f0f8ff;border: 1px dotted black;border-radius: 0.25em;box-sizing: border-box;margin-bottom: 0.5em;}#sk-container-id-2 div.sk-estimator:hover {background-color: #d4ebff;}#sk-container-id-2 div.sk-parallel-item::after {content: \"\";width: 100%;border-bottom: 1px solid gray;flex-grow: 1;}#sk-container-id-2 div.sk-label:hover label.sk-toggleable__label {background-color: #d4ebff;}#sk-container-id-2 div.sk-serial::before {content: \"\";position: absolute;border-left: 1px solid gray;box-sizing: border-box;top: 0;bottom: 0;left: 50%;z-index: 0;}#sk-container-id-2 div.sk-serial {display: flex;flex-direction: column;align-items: center;background-color: white;padding-right: 0.2em;padding-left: 0.2em;position: relative;}#sk-container-id-2 div.sk-item {position: relative;z-index: 1;}#sk-container-id-2 div.sk-parallel {display: flex;align-items: stretch;justify-content: center;background-color: white;position: relative;}#sk-container-id-2 div.sk-item::before, #sk-container-id-2 div.sk-parallel-item::before {content: \"\";position: absolute;border-left: 1px solid gray;box-sizing: border-box;top: 0;bottom: 0;left: 50%;z-index: -1;}#sk-container-id-2 div.sk-parallel-item {display: flex;flex-direction: column;z-index: 1;position: relative;background-color: white;}#sk-container-id-2 div.sk-parallel-item:first-child::after {align-self: flex-end;width: 50%;}#sk-container-id-2 div.sk-parallel-item:last-child::after {align-self: flex-start;width: 50%;}#sk-container-id-2 div.sk-parallel-item:only-child::after {width: 0;}#sk-container-id-2 div.sk-dashed-wrapped {border: 1px dashed gray;margin: 0 0.4em 0.5em 0.4em;box-sizing: border-box;padding-bottom: 0.4em;background-color: white;}#sk-container-id-2 div.sk-label label {font-family: monospace;font-weight: bold;display: inline-block;line-height: 1.2em;}#sk-container-id-2 div.sk-label-container {text-align: center;}#sk-container-id-2 div.sk-container {/* jupyter's `normalize.less` sets `[hidden] { display: none; }` but bootstrap.min.css set `[hidden] { display: none !important; }` so we also need the `!important` here to be able to override the default hidden behavior on the sphinx rendered scikit-learn.org. See: https://github.com/scikit-learn/scikit-learn/issues/21755 */display: inline-block !important;position: relative;}#sk-container-id-2 div.sk-text-repr-fallback {display: none;}</style><div id=\"sk-container-id-2\" class=\"sk-top-container\"><div class=\"sk-text-repr-fallback\"><pre>LogisticRegression()</pre><b>In a Jupyter environment, please rerun this cell to show the HTML representation or trust the notebook. <br />On GitHub, the HTML representation is unable to render, please try loading this page with nbviewer.org.</b></div><div class=\"sk-container\" hidden><div class=\"sk-item\"><div class=\"sk-estimator sk-toggleable\"><input class=\"sk-toggleable__control sk-hidden--visually\" id=\"sk-estimator-id-2\" type=\"checkbox\" checked><label for=\"sk-estimator-id-2\" class=\"sk-toggleable__label sk-toggleable__label-arrow\">LogisticRegression</label><div class=\"sk-toggleable__content\"><pre>LogisticRegression()</pre></div></div></div></div></div>"
      ],
      "text/plain": [
       "LogisticRegression()"
      ]
     },
     "execution_count": 53,
     "metadata": {},
     "output_type": "execute_result"
    }
   ],
   "source": [
    "model_logistic = LogisticRegression()\n",
    "model_logistic.fit(X_train,y_train)"
   ]
  },
  {
   "cell_type": "code",
   "execution_count": 54,
   "id": "8d68fc2e",
   "metadata": {},
   "outputs": [],
   "source": [
    "#y_pred = model_logistic.predict(scaled_X_test)\n",
    "y_pred_train_LG = model_logistic.predict(X_train)\n",
    "y_pred_test_lg = model_logistic.predict(X_test)\n",
    "acc_train_3 = accuracy_score(y_train, y_pred_train_LG)\n",
    "acc_test_3 = accuracy_score(y_test, y_pred_test_lg)\n"
   ]
  },
  {
   "cell_type": "code",
   "execution_count": 55,
   "id": "1ce4d800",
   "metadata": {},
   "outputs": [
    {
     "name": "stdout",
     "output_type": "stream",
     "text": [
      "              precision    recall  f1-score   support\n",
      "\n",
      "           0       0.89      0.98      0.93      6073\n",
      "           1       0.67      0.23      0.34       985\n",
      "\n",
      "    accuracy                           0.88      7058\n",
      "   macro avg       0.78      0.61      0.64      7058\n",
      "weighted avg       0.86      0.88      0.85      7058\n",
      "\n",
      "Training Accuracy Score 0.8728895906716871\n",
      "Testing Accuracy Score 0.8767356191555682\n"
     ]
    }
   ],
   "source": [
    "# Print classification report\n",
    "print(classification_report(y_test, y_pred_test_lg))\n",
    "print(\"Training Accuracy Score\",acc_train_3)\n",
    "print(\"Testing Accuracy Score\",acc_test_3)"
   ]
  },
  {
   "cell_type": "code",
   "execution_count": null,
   "id": "6fc869a0",
   "metadata": {},
   "outputs": [],
   "source": []
  },
  {
   "cell_type": "markdown",
   "id": "cb44d788",
   "metadata": {},
   "source": [
    "# Random Forest"
   ]
  },
  {
   "cell_type": "code",
   "execution_count": 57,
   "id": "a45d499e",
   "metadata": {},
   "outputs": [
    {
     "name": "stdout",
     "output_type": "stream",
     "text": [
      "              precision    recall  f1-score   support\n",
      "\n",
      "           0       0.95      0.82      0.88      6073\n",
      "           1       0.40      0.73      0.52       985\n",
      "\n",
      "    accuracy                           0.81      7058\n",
      "   macro avg       0.67      0.77      0.70      7058\n",
      "weighted avg       0.87      0.81      0.83      7058\n",
      "\n",
      "Training Accuracy Score 0.8310457913275842\n",
      "Testing Accuracy Score 0.8092944176820629\n"
     ]
    }
   ],
   "source": [
    "from sklearn.ensemble import RandomForestClassifier\n",
    "from sklearn.metrics import accuracy_score, classification_report\n",
    "\n",
    "# Regularized RandomForest to reduce overfitting\n",
    "clf_R = RandomForestClassifier(\n",
    "    n_estimators=200,        # number of trees\n",
    "    max_depth=10,            # limit depth of each tree\n",
    "    min_samples_split=10,    # minimum samples to split\n",
    "    min_samples_leaf=5,      # minimum samples at leaf\n",
    "    class_weight=\"balanced\", # handle imbalance if present\n",
    "    random_state=42\n",
    ")\n",
    "\n",
    "clf_R.fit(X_train, y_train)\n",
    "\n",
    "# Predictions\n",
    "y_pred_train_RF = clf_R.predict(X_train)\n",
    "y_pred_test_rf = clf_R.predict(X_test)\n",
    "\n",
    "# Accuracy\n",
    "acc_train_3 = accuracy_score(y_train, y_pred_train_RF)\n",
    "acc_test_3 = accuracy_score(y_test, y_pred_test_rf)\n",
    "\n",
    "# Print classification report\n",
    "print(classification_report(y_test, y_pred_test_rf))\n",
    "print(\"Training Accuracy Score\", acc_train_3)\n",
    "print(\"Testing Accuracy Score\", acc_test_3)\n"
   ]
  },
  {
   "cell_type": "markdown",
   "id": "d1f2de4f",
   "metadata": {},
   "source": [
    "# SVM"
   ]
  },
  {
   "cell_type": "code",
   "execution_count": 58,
   "id": "e030d123",
   "metadata": {},
   "outputs": [
    {
     "name": "stdout",
     "output_type": "stream",
     "text": [
      "              precision    recall  f1-score   support\n",
      "\n",
      "           0       0.89      0.98      0.94      6073\n",
      "           1       0.72      0.26      0.38       985\n",
      "\n",
      "    accuracy                           0.88      7058\n",
      "   macro avg       0.80      0.62      0.66      7058\n",
      "weighted avg       0.87      0.88      0.86      7058\n",
      "\n",
      "Training Accuracy Score 0.8834568201141747\n",
      "Testing Accuracy Score 0.8826863134032303\n"
     ]
    }
   ],
   "source": [
    "from sklearn.svm import SVC\n",
    "\n",
    "\n",
    "clf_SVC = SVC(kernel=\"rbf\", probability=True, random_state=42)\n",
    "clf_SVC.fit(X_train, y_train)\n",
    "\n",
    "y_pred_train = clf_SVC.predict(X_train)\n",
    "y_pred_test = clf_SVC.predict(X_test)\n",
    "\n",
    "acc_train = accuracy_score(y_train, y_pred_train)\n",
    "acc_test = accuracy_score(y_test, y_pred_test)\n",
    "\n",
    "print(classification_report(y_test, y_pred_test))\n",
    "print(\"Training Accuracy Score\", acc_train)\n",
    "print(\"Testing Accuracy Score\", acc_test)\n"
   ]
  },
  {
   "cell_type": "markdown",
   "id": "69548eb6",
   "metadata": {},
   "source": [
    "# K-Nearest Neighbors"
   ]
  },
  {
   "cell_type": "code",
   "execution_count": 59,
   "id": "a49c7cb0",
   "metadata": {},
   "outputs": [
    {
     "name": "stdout",
     "output_type": "stream",
     "text": [
      "              precision    recall  f1-score   support\n",
      "\n",
      "           0       0.90      0.96      0.93      6073\n",
      "           1       0.59      0.36      0.45       985\n",
      "\n",
      "    accuracy                           0.88      7058\n",
      "   macro avg       0.75      0.66      0.69      7058\n",
      "weighted avg       0.86      0.88      0.86      7058\n",
      "\n",
      "Training Accuracy Score 0.9010688691849873\n",
      "Testing Accuracy Score 0.8763105695664494\n"
     ]
    }
   ],
   "source": [
    "from sklearn.neighbors import KNeighborsClassifier\n",
    "\n",
    "\n",
    "clf_K = KNeighborsClassifier(n_neighbors=5)\n",
    "clf_K.fit(X_train, y_train)\n",
    "\n",
    "y_pred_train = clf_K.predict(X_train)\n",
    "y_pred_test = clf_K.predict(X_test)\n",
    "\n",
    "acc_train = accuracy_score(y_train, y_pred_train)\n",
    "acc_test = accuracy_score(y_test, y_pred_test)\n",
    "\n",
    "print(classification_report(y_test, y_pred_test))\n",
    "print(\"Training Accuracy Score\", acc_train)\n",
    "print(\"Testing Accuracy Score\", acc_test)\n"
   ]
  },
  {
   "cell_type": "markdown",
   "id": "ed64a53c",
   "metadata": {},
   "source": [
    "# Decision Tree"
   ]
  },
  {
   "cell_type": "code",
   "execution_count": 60,
   "id": "b5ca2ad4",
   "metadata": {},
   "outputs": [
    {
     "name": "stdout",
     "output_type": "stream",
     "text": [
      "              precision    recall  f1-score   support\n",
      "\n",
      "           0       0.90      0.96      0.93      6073\n",
      "           1       0.60      0.34      0.43       985\n",
      "\n",
      "    accuracy                           0.88      7058\n",
      "   macro avg       0.75      0.65      0.68      7058\n",
      "weighted avg       0.86      0.88      0.86      7058\n",
      "\n",
      "Training Accuracy Score 0.907020527146848\n",
      "Testing Accuracy Score 0.8760272031737036\n"
     ]
    }
   ],
   "source": [
    "from sklearn.tree import DecisionTreeClassifier\n",
    "\n",
    "clf_D = DecisionTreeClassifier(max_depth=10, random_state=42)\n",
    "clf_D.fit(X_train, y_train)\n",
    "\n",
    "y_pred_train = clf_D.predict(X_train)\n",
    "y_pred_test = clf_D.predict(X_test)\n",
    "\n",
    "acc_train = accuracy_score(y_train, y_pred_train)\n",
    "acc_test = accuracy_score(y_test, y_pred_test)\n",
    "\n",
    "print(classification_report(y_test, y_pred_test))\n",
    "print(\"Training Accuracy Score\", acc_train)\n",
    "print(\"Testing Accuracy Score\", acc_test)\n"
   ]
  },
  {
   "cell_type": "markdown",
   "id": "16aaac8d",
   "metadata": {},
   "source": [
    "# Gradient Boosting"
   ]
  },
  {
   "cell_type": "code",
   "execution_count": 61,
   "id": "520d18ba",
   "metadata": {},
   "outputs": [
    {
     "name": "stdout",
     "output_type": "stream",
     "text": [
      "              precision    recall  f1-score   support\n",
      "\n",
      "           0       0.90      0.98      0.94      6073\n",
      "           1       0.71      0.36      0.48       985\n",
      "\n",
      "    accuracy                           0.89      7058\n",
      "   macro avg       0.81      0.67      0.71      7058\n",
      "weighted avg       0.88      0.89      0.87      7058\n",
      "\n",
      "Training Accuracy Score 0.8932345439086603\n",
      "Testing Accuracy Score 0.8903372060073675\n"
     ]
    }
   ],
   "source": [
    "from sklearn.ensemble import GradientBoostingClassifier\n",
    "\n",
    "clf_G = GradientBoostingClassifier(n_estimators=200, learning_rate=0.1, max_depth=3, random_state=42)\n",
    "clf_G.fit(X_train, y_train)\n",
    "\n",
    "y_pred_train = clf_G.predict(X_train)\n",
    "y_pred_test = clf_G.predict(X_test)\n",
    "\n",
    "acc_train = accuracy_score(y_train, y_pred_train)\n",
    "acc_test = accuracy_score(y_test, y_pred_test)\n",
    "\n",
    "print(classification_report(y_test, y_pred_test))\n",
    "print(\"Training Accuracy Score\", acc_train)\n",
    "print(\"Testing Accuracy Score\", acc_test)\n"
   ]
  },
  {
   "cell_type": "markdown",
   "id": "7f526f4f",
   "metadata": {},
   "source": [
    "# Naive Bayes"
   ]
  },
  {
   "cell_type": "code",
   "execution_count": 62,
   "id": "f5f0b06a",
   "metadata": {},
   "outputs": [
    {
     "name": "stdout",
     "output_type": "stream",
     "text": [
      "              precision    recall  f1-score   support\n",
      "\n",
      "           0       0.92      0.88      0.90      6073\n",
      "           1       0.42      0.54      0.47       985\n",
      "\n",
      "    accuracy                           0.83      7058\n",
      "   macro avg       0.67      0.71      0.69      7058\n",
      "weighted avg       0.85      0.83      0.84      7058\n",
      "\n",
      "Training Accuracy Score 0.8307421353091218\n",
      "Testing Accuracy Score 0.8323887786908473\n"
     ]
    }
   ],
   "source": [
    "from sklearn.naive_bayes import GaussianNB\n",
    "\n",
    "clf_N = GaussianNB()\n",
    "clf_N.fit(X_train, y_train)\n",
    "\n",
    "y_pred_train = clf_N.predict(X_train)\n",
    "y_pred_test = clf_N.predict(X_test)\n",
    "\n",
    "acc_train = accuracy_score(y_train, y_pred_train)\n",
    "acc_test = accuracy_score(y_test, y_pred_test)\n",
    "\n",
    "print(classification_report(y_test, y_pred_test))\n",
    "print(\"Training Accuracy Score\", acc_train)\n",
    "print(\"Testing Accuracy Score\", acc_test)\n"
   ]
  },
  {
   "cell_type": "code",
   "execution_count": 63,
   "id": "fad6a326",
   "metadata": {},
   "outputs": [
    {
     "name": "stdout",
     "output_type": "stream",
     "text": [
      "Requirement already satisfied: xgboost in c:\\users\\admin\\anaconda3\\lib\\site-packages (3.0.5)\n",
      "Requirement already satisfied: numpy in c:\\users\\admin\\anaconda3\\lib\\site-packages (from xgboost) (1.26.4)\n",
      "Requirement already satisfied: scipy in c:\\users\\admin\\anaconda3\\lib\\site-packages (from xgboost) (1.10.0)\n"
     ]
    },
    {
     "name": "stderr",
     "output_type": "stream",
     "text": [
      "WARNING: There was an error checking the latest version of pip.\n"
     ]
    }
   ],
   "source": [
    "!pip install xgboost"
   ]
  },
  {
   "cell_type": "markdown",
   "id": "dfd879aa",
   "metadata": {},
   "source": [
    "# XGBoost Classifier"
   ]
  },
  {
   "cell_type": "code",
   "execution_count": 64,
   "id": "3bf6e5d8",
   "metadata": {},
   "outputs": [
    {
     "name": "stderr",
     "output_type": "stream",
     "text": [
      "WARNING: There was an error checking the latest version of pip.\n"
     ]
    },
    {
     "name": "stdout",
     "output_type": "stream",
     "text": [
      "Requirement already satisfied: xgboost in c:\\users\\admin\\anaconda3\\lib\\site-packages (3.0.5)\n",
      "Requirement already satisfied: numpy in c:\\users\\admin\\anaconda3\\lib\\site-packages (from xgboost) (1.26.4)\n",
      "Requirement already satisfied: scipy in c:\\users\\admin\\anaconda3\\lib\\site-packages (from xgboost) (1.10.0)\n"
     ]
    },
    {
     "name": "stderr",
     "output_type": "stream",
     "text": [
      "C:\\Users\\admin\\anaconda3\\lib\\site-packages\\xgboost\\training.py:183: UserWarning: [08:27:17] WARNING: C:\\actions-runner\\_work\\xgboost\\xgboost\\src\\learner.cc:738: \n",
      "Parameters: { \"use_label_encoder\" } are not used.\n",
      "\n",
      "  bst.update(dtrain, iteration=i, fobj=obj)\n"
     ]
    },
    {
     "name": "stdout",
     "output_type": "stream",
     "text": [
      "              precision    recall  f1-score   support\n",
      "\n",
      "           0       0.91      0.97      0.94      6073\n",
      "           1       0.67      0.39      0.49       985\n",
      "\n",
      "    accuracy                           0.89      7058\n",
      "   macro avg       0.79      0.68      0.71      7058\n",
      "weighted avg       0.87      0.89      0.87      7058\n",
      "\n",
      "Training Accuracy Score 0.9181343374225677\n",
      "Testing Accuracy Score 0.8872201756871635\n"
     ]
    }
   ],
   "source": [
    "!pip install xgboost\n",
    "\n",
    "from xgboost import XGBClassifier\n",
    "\n",
    "clf_X = XGBClassifier(\n",
    "    n_estimators=300,\n",
    "    learning_rate=0.1,\n",
    "    max_depth=6,\n",
    "    random_state=42,\n",
    "    use_label_encoder=False,\n",
    "    eval_metric='mlogloss'\n",
    ")\n",
    "clf_X.fit(X_train, y_train)\n",
    "\n",
    "y_pred_train = clf_X.predict(X_train)\n",
    "y_pred_test = clf_X.predict(X_test)\n",
    "\n",
    "acc_train = accuracy_score(y_train, y_pred_train)\n",
    "acc_test = accuracy_score(y_test, y_pred_test)\n",
    "\n",
    "print(classification_report(y_test, y_pred_test))\n",
    "print(\"Training Accuracy Score\", acc_train)\n",
    "print(\"Testing Accuracy Score\", acc_test)\n"
   ]
  },
  {
   "cell_type": "markdown",
   "id": "9626526c",
   "metadata": {},
   "source": [
    "# Bagging Classifier"
   ]
  },
  {
   "cell_type": "code",
   "execution_count": 65,
   "id": "f70114f2",
   "metadata": {},
   "outputs": [
    {
     "name": "stderr",
     "output_type": "stream",
     "text": [
      "C:\\Users\\admin\\anaconda3\\lib\\site-packages\\sklearn\\ensemble\\_base.py:166: FutureWarning: `base_estimator` was renamed to `estimator` in version 1.2 and will be removed in 1.4.\n",
      "  warnings.warn(\n"
     ]
    },
    {
     "name": "stdout",
     "output_type": "stream",
     "text": [
      "              precision    recall  f1-score   support\n",
      "\n",
      "           0       0.91      0.94      0.92      6073\n",
      "           1       0.52      0.39      0.45       985\n",
      "\n",
      "    accuracy                           0.86      7058\n",
      "   macro avg       0.71      0.67      0.69      7058\n",
      "weighted avg       0.85      0.86      0.86      7058\n",
      "\n",
      "Training Accuracy Score 0.9818413700959553\n",
      "Testing Accuracy Score 0.8642674978747521\n"
     ]
    }
   ],
   "source": [
    "from sklearn.ensemble import BaggingClassifier\n",
    "from sklearn.tree import DecisionTreeClassifier\n",
    "from sklearn.metrics import accuracy_score, classification_report\n",
    "\n",
    "clf_B = BaggingClassifier(base_estimator=DecisionTreeClassifier(), n_estimators=200, random_state=42)\n",
    "clf_B.fit(X_train, y_train)\n",
    "\n",
    "y_pred_train = clf_B.predict(X_train)\n",
    "y_pred_test = clf_B.predict(X_test)\n",
    "\n",
    "acc_train = accuracy_score(y_train, y_pred_train)\n",
    "acc_test = accuracy_score(y_test, y_pred_test)\n",
    "\n",
    "print(classification_report(y_test, y_pred_test))\n",
    "print(\"Training Accuracy Score\", acc_train)\n",
    "print(\"Testing Accuracy Score\", acc_test)\n"
   ]
  },
  {
   "cell_type": "markdown",
   "id": "d898cc45",
   "metadata": {},
   "source": [
    "# AdaBoost Classifier"
   ]
  },
  {
   "cell_type": "code",
   "execution_count": 66,
   "id": "b5f549eb",
   "metadata": {},
   "outputs": [
    {
     "name": "stdout",
     "output_type": "stream",
     "text": [
      "              precision    recall  f1-score   support\n",
      "\n",
      "           0       0.90      0.97      0.94      6073\n",
      "           1       0.67      0.34      0.45       985\n",
      "\n",
      "    accuracy                           0.88      7058\n",
      "   macro avg       0.78      0.66      0.69      7058\n",
      "weighted avg       0.87      0.88      0.87      7058\n",
      "\n",
      "Training Accuracy Score 0.8841855945584841\n",
      "Testing Accuracy Score 0.8841031453669594\n"
     ]
    }
   ],
   "source": [
    "from sklearn.ensemble import AdaBoostClassifier\n",
    "from sklearn.metrics import accuracy_score, classification_report\n",
    "\n",
    "clf_ADA = AdaBoostClassifier(n_estimators=200, learning_rate=0.5, random_state=42)\n",
    "clf_ADA.fit(X_train, y_train)\n",
    "\n",
    "y_pred_train = clf_ADA.predict(X_train)\n",
    "y_pred_test = clf_ADA.predict(X_test)\n",
    "\n",
    "acc_train = accuracy_score(y_train, y_pred_train)\n",
    "acc_test = accuracy_score(y_test, y_pred_test)\n",
    "\n",
    "print(classification_report(y_test, y_pred_test))\n",
    "print(\"Training Accuracy Score\", acc_train)\n",
    "print(\"Testing Accuracy Score\", acc_test)\n"
   ]
  },
  {
   "cell_type": "code",
   "execution_count": null,
   "id": "c5f7cb72",
   "metadata": {},
   "outputs": [],
   "source": []
  },
  {
   "cell_type": "code",
   "execution_count": 67,
   "id": "4812d4de",
   "metadata": {},
   "outputs": [],
   "source": [
    "import pickle\n",
    "\n",
    "# Save the model to a file\n",
    "with open(\"xgb_model.pkl\", \"wb\") as f:\n",
    "    pickle.dump(clf_X, f)\n"
   ]
  },
  {
   "cell_type": "code",
   "execution_count": null,
   "id": "d0418405",
   "metadata": {},
   "outputs": [],
   "source": []
  },
  {
   "cell_type": "code",
   "execution_count": null,
   "id": "8c91bb34",
   "metadata": {},
   "outputs": [],
   "source": []
  }
 ],
 "metadata": {
  "kernelspec": {
   "display_name": "Python 3 (ipykernel)",
   "language": "python",
   "name": "python3"
  },
  "language_info": {
   "codemirror_mode": {
    "name": "ipython",
    "version": 3
   },
   "file_extension": ".py",
   "mimetype": "text/x-python",
   "name": "python",
   "nbconvert_exporter": "python",
   "pygments_lexer": "ipython3",
   "version": "3.10.9"
  }
 },
 "nbformat": 4,
 "nbformat_minor": 5
}
